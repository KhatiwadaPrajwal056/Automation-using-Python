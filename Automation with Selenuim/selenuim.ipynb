{
 "cells": [
  {
   "cell_type": "code",
   "execution_count": 1,
   "metadata": {},
   "outputs": [],
   "source": [
    "from selenium import webdriver\n",
    "from selenium.webdriver.chrome.service import Service\n",
    "from selenium.webdriver.common.by import By\n",
    "from selenium.webdriver.common.keys import Keys\n",
    "from selenium.webdriver.support.ui import WebDriverWait\n",
    "from selenium.webdriver.support import expected_conditions as EC\n",
    "# from colorama import Fore,Style\n",
    "from time import sleep\n",
    "import os\n",
    "from pathlib import Path\n"
   ]
  },
  {
   "cell_type": "markdown",
   "metadata": {},
   "source": [
    "# Basic of selenium"
   ]
  },
  {
   "cell_type": "code",
   "execution_count": 2,
   "metadata": {},
   "outputs": [],
   "source": [
    "# Setting up everything\n",
    "\n",
    "# os.chdir(os.path.dirname(__file__))\n",
    "# print(os.getcwd())\n",
    "wait_load = webdriver.ChromeOptions()\n",
    "wait_load.add_experimental_option(\"detach\",True)\n",
    "\n",
    "web_service = Service(executable_path='/Users/khatiwadaprajwal22icloud.com/Desktop/Visual studio code/Automation-using-Python/Automation with Selenuim/chromedriver')\n",
    "\n",
    "driver = webdriver.Chrome(service=web_service,options=wait_load)\n",
    "driver.get(\"https://google.com\")\n",
    "# sleep(10)\n",
    "\n",
    "WebDriverWait(driver,2).until(\n",
    "    EC.presence_of_element_located((By.CLASS_NAME,\"gLFyf\"))\n",
    ")\n",
    "input_element = driver.find_element(By.CLASS_NAME,\"gLFyf\")\n",
    "input_element.send_keys(\"python.org\",Keys.ENTER) # or input_element.click()"
   ]
  },
  {
   "cell_type": "markdown",
   "metadata": {},
   "source": [
    "# SauceDemo Site"
   ]
  },
  {
   "cell_type": "code",
   "execution_count": 99,
   "metadata": {},
   "outputs": [
    {
     "name": "stdout",
     "output_type": "stream",
     "text": [
      "T-Shirt Added to cart\n",
      "T-Shirt Added to cart\n"
     ]
    }
   ],
   "source": [
    "# Open site 1\n",
    "wait_load = webdriver.ChromeOptions()\n",
    "wait_load.add_experimental_option(\"detach\",True)\n",
    "\n",
    "web_service = Service(executable_path='/Users/khatiwadaprajwal22icloud.com/Desktop/Visual studio code/Automation-using-Python/Automation with Selenuim/chromedriver')\n",
    "\n",
    "driver = webdriver.Chrome(service=web_service,options=wait_load)\n",
    "# sleep(10)\n",
    "driver.get(\"https://www.saucedemo.com/v1/\")\n",
    "\n",
    "# login into the site 2\n",
    "username = \"standard_user\"\n",
    "password = \"secret_sauce\"\n",
    "\n",
    "# find the elements\n",
    "input_element = driver.find_element(By.ID,'user-name')\n",
    "password_element = driver.find_element(By.XPATH,'//*[@id=\"password\"]')\n",
    "login_element = driver.find_element(By.CSS_SELECTOR,'#login-button')\n",
    "\n",
    "# fill and click\n",
    "input_element.send_keys(username)\n",
    "password_element.send_keys(password)\n",
    "login_element.click()\n",
    "\n",
    "# select tshirt item::\n",
    "items = driver.find_elements(By.CLASS_NAME,'inventory_item')\n",
    "# print(\"Elements: \",items)\n",
    "\n",
    "# take text from iteams\n",
    "for item in items:\n",
    "    item_name = item.find_element(By.CLASS_NAME,'inventory_item_name').text\n",
    "    # print(item_name)\n",
    "    if \"T-Shirt\" in item_name:\n",
    "        add_to_cart_button = item.find_element(By.CSS_SELECTOR,'#inventory_container > div > div > div.pricebar > button') # here driver.find wont work \n",
    "        # Be careful with By.\n",
    "        print(\"T-Shirt Added to cart\")\n",
    "        add_to_cart_button.click()\n",
    "\n",
    "# click cart button\n",
    "cart_button = driver.find_element(By.XPATH,'//*[@id=\"shopping_cart_container\"]/a')\n",
    "cart_button.click()\n",
    "sleep(0.5)\n",
    "# check_out_bottom :\n",
    "check_out_botton = driver.find_element(By.CSS_SELECTOR,'#cart_contents_container > div > div.cart_footer > a.btn_action.checkout_button')\n",
    "check_out_botton.click()\n",
    "sleep(0.5)\n",
    "\n",
    "# Fill the credentials::\n",
    "input_fields = driver.find_elements(By.TAG_NAME, \"input\")\n",
    "input_data = [\"John\", \"Doe\", \"123124\"]\n",
    "sleep(0.5)\n",
    "for input_field, input_data in zip(input_fields,input_data):\n",
    "    # zip ??? zip(input_fields, input_data) creates an iterator that produces tuples, where the first tuple contains the first elements of both lists, the second tuple contains the second elements of both lists, and so on.\n",
    "    # input_fields = [field1, field2, field3] where field1, field2, and field3 are input elements.\n",
    "    # input_data = [\"John\", \"Doe\", \"123124\"].\n",
    "    # zip(input_fields, input_data) will produce:\n",
    "    # (field1, \"John\")\n",
    "    # (field2, \"Doe\")\n",
    "    # (field3, \"123124\").\n",
    "\n",
    "    input_field.send_keys(input_data)\n",
    "    sleep(0.2)\n",
    "\n",
    "input_fields[-1].click() # or find the continue element and click it\n",
    "\n",
    "# Botton is a bit below from the screen\n",
    "WebDriverWait(driver,3).until(\n",
    "    EC.presence_of_element_located((By.CLASS_NAME,\"btn_action.cart_button\"))\n",
    ")\n",
    "finish_button = driver.find_element(By.CLASS_NAME,'btn_action.cart_button') # or finish_button = wait.until(EC.element_to_be_clickable((By.CLASS_NAME, \"btn_action.cart_button\")))\n",
    "\n",
    "sleep(1)\n",
    "finish_button.click()\n",
    "\n"
   ]
  },
  {
   "cell_type": "code",
   "execution_count": 98,
   "metadata": {},
   "outputs": [
    {
     "name": "stdout",
     "output_type": "stream",
     "text": [
      "\u001b[31mHello\n",
      "\u001b[32mTest 1 Failed: \u001b[0m\n",
      "Colorful text\n"
     ]
    }
   ],
   "source": [
    "from colorama import Fore,Style\n",
    "\n",
    "print(Fore.RED + str(\"Hello\"))\n",
    "\n",
    "def print_colored(text, color):\n",
    "    colors = {\"red\": Fore.RED, \"green\": Fore.GREEN, \"reset\": Style.RESET_ALL}\n",
    "    print(colors[color] + text + colors[\"reset\"])\n",
    "\n",
    "print_colored(\"Test 1 Failed: \" , \"green\")\n",
    "print(\"Colorful text\")\n",
    "\n",
    "\n"
   ]
  },
  {
   "cell_type": "code",
   "execution_count": null,
   "metadata": {},
   "outputs": [],
   "source": []
  }
 ],
 "metadata": {
  "kernelspec": {
   "display_name": "Python 3 (ipykernel)",
   "language": "python",
   "name": "python3"
  },
  "language_info": {
   "codemirror_mode": {
    "name": "ipython",
    "version": 3
   },
   "file_extension": ".py",
   "mimetype": "text/x-python",
   "name": "python",
   "nbconvert_exporter": "python",
   "pygments_lexer": "ipython3",
   "version": "3.11.1"
  }
 },
 "nbformat": 4,
 "nbformat_minor": 2
}
