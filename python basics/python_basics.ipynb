{
 "cells": [
  {
   "cell_type": "markdown",
   "metadata": {},
   "source": [
    "\n",
    "# 1. Introduction to Python (5 minutes)\n",
    "•Objective: Understand the purpose and capabilities of Python in automation.\n",
    "\n",
    "•Workflow:\n",
    "\n",
    "    Discuss the versatility of Python.\n",
    "    Explain Python's role in file organization, email automation, web scraping, GUI automation, and Selenium.\n",
    "# 2. Basic Syntax and Data Types (15 minutes)\n",
    "•Objective: Learn basic data types and operations in Python\n",
    "\n",
    "•Workflow:\n",
    "\n",
    "    Variables and Data Types: Introduce variables and show how to declare them with different data types.\n",
    "    \n",
    "`variable` particularly a name given to allocate a specific memory location in a program.\n",
    "\n",
    "`Data types` are a kind of data item or say pakaaar or kis pakar ka data hey!\n",
    "    \n",
    "    Basic Operations: Demonstrate arithmetic operations and string concatenation.\n",
    "python\n",
    "Copy code\n"
   ]
  },
  {
   "cell_type": "code",
   "execution_count": 1,
   "metadata": {
    "scrolled": true
   },
   "outputs": [
    {
     "name": "stdout",
     "output_type": "stream",
     "text": [
      "<class 'int'>\n",
      "30.5\n",
      "Hello, World! This is Python.\n",
      "False\n",
      "13\n"
     ]
    },
    {
     "data": {
      "text/plain": [
       "'el,Wr'"
      ]
     },
     "execution_count": 1,
     "metadata": {},
     "output_type": "execute_result"
    }
   ],
   "source": [
    "# Variables and Data Types\n",
    "integer_var = 10\n",
    "float_var = 20.5\n",
    "string_var = \"Hello, World!\"   # Immutable\n",
    "boolean_var = True\n",
    "print(type(integer_var))\n",
    "\n",
    "# Basic Operations\n",
    "sum_result = integer_var + float_var\n",
    "concat_result = string_var + \" This is Python.\"\n",
    "boolean_check = integer_var > float_var # == , != ,<= etc\n",
    "\n",
    "print(sum_result)  # 30.5\n",
    "print(concat_result)  # Hello, World! This is Python.\n",
    "print(boolean_check)  # False\n",
    "# string_var[start:stop:step]\n",
    "print(len(string_var))\n",
    "string_var[1:10:2]"
   ]
  },
  {
   "cell_type": "code",
   "execution_count": null,
   "metadata": {},
   "outputs": [],
   "source": [
    "# Taking user input\n",
    "\n",
    "\n",
    "# Showing the output"
   ]
  },
  {
   "cell_type": "code",
   "execution_count": 2,
   "metadata": {
    "scrolled": true
   },
   "outputs": [
    {
     "name": "stdout",
     "output_type": "stream",
     "text": [
      "prajwal 'khatiawda' pk\n",
      "Line \\n A\n",
      "line \\n A\n"
     ]
    }
   ],
   "source": [
    "# Escape Sequence\n",
    "print('prajwal \\'khatiawda\\' pk')\n",
    "print('Line \\\\n A') or print(r'line \\n A')\n",
    "\n",
    "# more Escape Sequences\n",
    "# \\' = (')single quote\n",
    "# \\\" = (\")double quote\n",
    "# \\\\ = backslash\n",
    "# \\n= newline\n",
    "# \\t = tab \n",
    "# \\b = backspace '  \n"
   ]
  },
  {
   "cell_type": "code",
   "execution_count": 5,
   "metadata": {
    "scrolled": true
   },
   "outputs": [
    {
     "name": "stdout",
     "output_type": "stream",
     "text": [
      "Enter your name: pk\n",
      "Enter your age: 5\n",
      "hi pk your age is 5\n",
      "Hi pk Your age is 5\n"
     ]
    }
   ],
   "source": [
    "# Taking input & Formatted string:\n",
    "name = input(\"Enter your name: \")\n",
    "age = input(\"Enter your age: \")\n",
    "print(\"hi\",name,\"your age is\",age)\n",
    "\n",
    "print(f\"Hi {name} Your age is {age}\")\n",
    "# {} are used to denote placeholders for variables or expressions.\n"
   ]
  },
  {
   "cell_type": "markdown",
   "metadata": {},
   "source": [
    "# 3. Lists , Dictionaries & Tuples (20 minutes)\n",
    "• Objective: Understand how to work with lists and dictionaries.\n",
    "\n",
    "•Workflow:\n",
    "\n",
    "   \n",
    "python\n",
    "Copy code\n"
   ]
  },
  {
   "cell_type": "code",
   "execution_count": 26,
   "metadata": {},
   "outputs": [
    {
     "name": "stdout",
     "output_type": "stream",
     "text": [
      "['aalu', 'saimon', 'potato']\n",
      "['aalu', 'saimon', 'potato']\n",
      "[4, 6, 8]\n",
      "[1, 5, 4, 6, 8]\n"
     ]
    }
   ],
   "source": [
    "# Optional\n",
    "old_list= [\n",
    "    'prajwal',\n",
    "    'saimon',\n",
    "    'potato'\n",
    "]\n",
    "new_list=old_list #this doesnt copy the list , oldlist points somewhere in the memory and new list equals to the data to that memory location \n",
    "new_list[0]='aalu'\n",
    "print(new_list)\n",
    "print(old_list) ##hence both print gives the same output\n",
    "\n",
    "# unpacking list\n",
    "a=[1,5,4,6,8]\n",
    "# x,y,z=a #unpacking\n",
    "x,y,*other=a \n",
    "print(other) #prints everything after x and y \n",
    "print(a)\n",
    "\n",
    "# unpacking tuple\n",
    "a=(1,2,3) #tuple with numerious elements\n",
    "x,y,z = a # unpacking\n",
    "a=() # empty tuple\n",
    "a=(1) # wrong way to declare tuple with single element\n",
    "a=(1,) # correct way to declare tuple with single element\n"
   ]
  },
  {
   "cell_type": "markdown",
   "metadata": {},
   "source": [
    "\n",
    "    Lists:\n",
    "    list are the containers to store a set of valus of any data types(collection of datatypes)a compplex data type, its like an array.\n",
    "    Ordered: The order of elements is maintained.\n",
    "    Mutable: Elements can be changed after the list is created.\n",
    "    Indexed: Elements can be accessed using their index.\n",
    "    List Comprehension: Introduce list comprehension for concise list creation."
   ]
  },
  {
   "cell_type": "code",
   "execution_count": 34,
   "metadata": {},
   "outputs": [
    {
     "name": "stdout",
     "output_type": "stream",
     "text": [
      "{'name': 'John', 'age': 30, 'city': 'New York', 'email': 'john@example.com'}\n",
      "name: John\n",
      "age: 30\n",
      "city: New York\n",
      "email: john@example.com\n"
     ]
    }
   ],
   "source": [
    "# # Lists\n",
    "# fruits = [\"apple\", \"banana\", \"cherry\"]\n",
    "# fruits.append(\"date\")\n",
    "# print(fruits)  # ['apple', 'banana', 'cherry', 'date']\n",
    "# fruits.remove(\"banana\")\n",
    "# print(fruits)  # ['apple', 'cherry', 'date']\n",
    "# # list is mutable:\n",
    "# # fruits = [\"apple\", \"banana\", \"cherry\"]\n",
    "# # fruits[0] = \"helllo\"\n",
    "# print(fruits)\n"
   ]
  },
  {
   "cell_type": "code",
   "execution_count": null,
   "metadata": {},
   "outputs": [],
   "source": [
    "# # List Comprehension\n",
    "# new_list = [expression for item in iterable if condition]\n",
    "# squared_numbers = [x**2 for x in range(10)]\n",
    "# print(squared_numbers)  # [0, 1, 4, 9, 16, 25, 36, 49, 64, 81\n"
   ]
  },
  {
   "cell_type": "markdown",
   "metadata": {},
   "source": [
    "Tuples\n",
    "Definition:\n",
    "A tuple is an ordered collection of items that are immutable (cannot be changed). Tuples can contain elements of different data types.\n",
    "\n",
    "Ordered,Immutable,Indexed"
   ]
  },
  {
   "cell_type": "code",
   "execution_count": null,
   "metadata": {},
   "outputs": [],
   "source": [
    "# # tuples: \n",
    "# # Creating a tuple\n",
    "# my_tuple = (1, 2, 3, 'hello', 'world')\n",
    "\n",
    "# # Accessing elements of a tuple\n",
    "# print(my_tuple[0])  # Output: 1\n",
    "# print(my_tuple[3])  # Output: hello\n",
    "\n"
   ]
  },
  {
   "cell_type": "markdown",
   "metadata": {},
   "source": [
    " Dictionaries: Explain how to create and use dictionaries, access values, and iterate through items.\n",
    "A dictionary is an unordered collection of key-value pairs. Each key is unique and maps to a value.\n",
    "Unordered,Mutable,Indexed"
   ]
  },
  {
   "cell_type": "code",
   "execution_count": null,
   "metadata": {},
   "outputs": [],
   "source": [
    "\n",
    "\n",
    "# Dictionaries\n",
    "person = {\n",
    "    \"name\": \"John\",\n",
    "    \"age\": 30,\n",
    "    \"city\": \"New York\"\n",
    "}\n",
    "# print(person[\"name\"])  # John\n",
    "person[\"email\"] = \"john@example.com\"\n",
    "print(person)  # {'name': 'John', 'age': 30, 'city': 'New York', 'email': 'john@example.com'}\n",
    "\n",
    "\n",
    "# cannot contain duplicate keys, it overrides i.e need to be unique keys\n",
    "\n",
    "# Iterating through a dictionary\n",
    "for key, value in person.items():\n",
    "    print(f\"{key}: {value}\")\n",
    "# Output:\n",
    "# name: John\n",
    "# age: 30\n",
    "# city: New York\n",
    "# email: john@example.com\n",
    "\n",
    "#nested dictionary\n",
    "dict= {\n",
    "    \"int\": \"1,2,3\",\n",
    "    \"name\":\"pk,sagar \",\n",
    "    \"marks\":\"12,23\",\n",
    "    \"hero\" : {\"op\":\"topi\"}\n",
    "}"
   ]
  },
  {
   "cell_type": "markdown",
   "metadata": {},
   "source": [
    "# 4. Functions (15 minutes)\n",
    "• Objective: Learn how to define and use functions.\n",
    "\n",
    "• Workflow:\n",
    "\n",
    "    Defining Functions: Show how to define a function using the def keyword.\n",
    "    Calling Functions: Explain how to call functions and pass arguments.\n",
    "python\n",
    "Copy code\n"
   ]
  },
  {
   "cell_type": "code",
   "execution_count": null,
   "metadata": {},
   "outputs": [
    {
     "name": "stdout",
     "output_type": "stream",
     "text": [
      "Hello, Alice!\n"
     ]
    }
   ],
   "source": [
    "# Defining a function\n",
    "def greet(name):\n",
    "    return f\"Hello, {name}!\"\n",
    "\n",
    "# Calling a function\n",
    "message = greet(\"Alice\")\n",
    "print(message)  # Hello, Alice!\n"
   ]
  },
  {
   "cell_type": "markdown",
   "metadata": {},
   "source": [
    "# 5. Control Structures (20 minutes)\n",
    "• Objective: Master the use of conditional statements and loops.\n",
    "\n",
    "• Workflow:\n",
    "\n",
    "    Conditional Statements: Explain if, elif, and else statements.Conditional statements allow you to execute different blocks of code based on certain conditions.\n",
    "\n",
    "    Loops: Describe the use of for and while loops.\n",
    "    Continue and Break: Introduce loop control statements continue and break.Loops allow you to execute a block of code multiple times. They are used for iterating over a sequence (like a list, tuple, dictionary, set, or string) or performing a task repeatedly.\n",
    "\n",
    "\n",
    "python\n",
    "Copy code\n"
   ]
  },
  {
   "cell_type": "code",
   "execution_count": null,
   "metadata": {},
   "outputs": [
    {
     "name": "stdout",
     "output_type": "stream",
     "text": [
      "Positive number\n",
      "0\n",
      "1\n",
      "2\n",
      "3\n",
      "4\n",
      "0\n",
      "1\n",
      "2\n",
      "3\n",
      "4\n",
      "0\n",
      "1\n",
      "2\n",
      "4\n",
      "5\n",
      "6\n",
      "7\n"
     ]
    }
   ],
   "source": [
    "# Conditional Statements\n",
    "num = 10\n",
    "if num > 0:\n",
    "    print(\"Positive number\")\n",
    "elif num == 0:\n",
    "    print(\"Zero\")\n",
    "else:\n",
    "    print(\"Negative number\")\n",
    "\n",
    "# Loops\n",
    "# For loop\n",
    "# The for loop is used to iterate over a sequence (such as a list, tuple, dictionary, set, or string).\n",
    "for i in range(5):\n",
    "    print(i)  # Prints 0 to 4\n",
    "\n",
    "# While loop\n",
    "# The while loop executes a block of code as long as its condition is True.\n",
    "count = 0\n",
    "while count < 5:\n",
    "    print(count)\n",
    "    count += 1  # Prints 0 to 4\n",
    "\n",
    "# Continue and Break in Loops\n",
    "for i in range(10):\n",
    "    if i == 3:\n",
    "        continue  # Skip the rest of the loop when i is 3 and moves to next iteration.\n",
    "    if i == 8:\n",
    "        break  # Exit the loop when i is 8\n",
    "    print(i)  # Prints 0, 1, 2, 4, 5, 6, 7\n"
   ]
  },
  {
   "cell_type": "markdown",
   "metadata": {},
   "source": [
    "# 6. Error Handling (10 minutes)\n",
    "• Objective: Learn how to handle errors using try and except.\n",
    "\n",
    "• Workflow:\n",
    "Try and Except: Introduce error handling with try and except blocks to catch exceptions.\n",
    "    \n",
    "try: it tries the code as in c++\n",
    "\n",
    "The try Block: You place the code that you think might raise an exception inside a try block. This block is followed by one or more except blocks.\n",
    "The except Block: If an exception occurs within the try block, Python looks for an except block that matches the type of exception raised. If a matching except block is found, the code inside that block is executed.\n",
    "\n",
    "There can be multiple error on same try and need to make each except for each error.\n",
    "    \n",
    "python\n",
    "Copy code\n"
   ]
  },
  {
   "cell_type": "code",
   "execution_count": 43,
   "metadata": {},
   "outputs": [
    {
     "name": "stdout",
     "output_type": "stream",
     "text": [
      "enter a numy\n"
     ]
    },
    {
     "ename": "ValueError",
     "evalue": "invalid literal for int() with base 10: 'y'",
     "output_type": "error",
     "traceback": [
      "\u001b[0;31m---------------------------------------------------------------------------\u001b[0m",
      "\u001b[0;31mValueError\u001b[0m                                Traceback (most recent call last)",
      "Cell \u001b[0;32mIn[43], line 1\u001b[0m\n\u001b[0;32m----> 1\u001b[0m num\u001b[38;5;241m=\u001b[39m\u001b[38;5;28;43mint\u001b[39;49m\u001b[43m(\u001b[49m\u001b[38;5;28;43minput\u001b[39;49m\u001b[43m(\u001b[49m\u001b[38;5;124;43m\"\u001b[39;49m\u001b[38;5;124;43menter a num\u001b[39;49m\u001b[38;5;124;43m\"\u001b[39;49m\u001b[43m)\u001b[49m\u001b[43m)\u001b[49m\n\u001b[1;32m      2\u001b[0m \u001b[38;5;28mprint\u001b[39m(num)\n",
      "\u001b[0;31mValueError\u001b[0m: invalid literal for int() with base 10: 'y'"
     ]
    }
   ],
   "source": [
    "num=int(input(\"enter a num\"))\n",
    "print(num)"
   ]
  },
  {
   "cell_type": "code",
   "execution_count": null,
   "metadata": {},
   "outputs": [],
   "source": [
    "try:\n",
    "        num=int(input(\"enter a num\"))\n",
    "        print(num)\n",
    "except ValueError:\n",
    "        print(\"You entered different value \")\n"
   ]
  },
  {
   "cell_type": "code",
   "execution_count": 10,
   "metadata": {},
   "outputs": [
    {
     "name": "stdout",
     "output_type": "stream",
     "text": [
      "Undefined (division by zero)\n",
      "ValueError occurred: invalid literal for int() with base 10: 'abc'\n"
     ]
    }
   ],
   "source": [
    "# Try and Except\n",
    "try:\n",
    "    result = 10 / 0\n",
    "except ZeroDivisionError:\n",
    "    result = \"Undefined (division by zero)\"\n",
    "print(result)  # Undefined (division by zero)\n",
    "\n",
    "try:\n",
    "    int_value = int(\"abc\")\n",
    "except ValueError as e:\n",
    "    print(f\"ValueError occurred: {e}\")\n"
   ]
  },
  {
   "cell_type": "markdown",
   "metadata": {},
   "source": [
    "# 7. Basic File Handling (15 minutes)\n",
    "• Objective: Understand how to read from and write to files.\n",
    "\n",
    "• Workflow:\n",
    "\n",
    "    Writing to a File: Demonstrate how to open a file in write mode and write data to it.\n",
    "    Reading from a File: Show how to open a file in read mode and read data from it.\n",
    "\n",
    "'r': Read mode (default). Opens a file for reading. The file must exist.\n",
    "\n",
    "'w': Write mode. Opens a file for writing, truncating the file first if it exists, or creating a new file if it does not.\n",
    "\n",
    "'rb': Read binary mode. Opens a file for reading in binary format. The file must exist.\n",
    "\n",
    "'wb': Write binary mode. Opens a file for writing in binary format, truncating the file first if it exists, or creating a new file if it does not.\n",
    "\n",
    "'a': Append mode. Opens a file for writing, appending to the end of the file if it exists, or creating a new file if it does not.\n",
    "\n",
    "python\n",
    "Copy code\n"
   ]
  },
  {
   "cell_type": "code",
   "execution_count": 21,
   "metadata": {},
   "outputs": [],
   "source": [
    "# Writing to a file\n",
    "with open(\"example.txt\", \"w\") as file:\n",
    "    file.write(\"Hello, this is a test file.\")"
   ]
  },
  {
   "cell_type": "code",
   "execution_count": 22,
   "metadata": {},
   "outputs": [
    {
     "name": "stdout",
     "output_type": "stream",
     "text": [
      "Hello, this is a test file.\n"
     ]
    }
   ],
   "source": [
    "# Reading from a file\n",
    "with open(\"example.txt\", \"r\") as file:\n",
    "    content = file.read()\n",
    "    print(content)  # Hello, this is a test file."
   ]
  },
  {
   "cell_type": "code",
   "execution_count": 24,
   "metadata": {},
   "outputs": [
    {
     "name": "stdout",
     "output_type": "stream",
     "text": [
      "Hello, this is a test file.\n"
     ]
    }
   ],
   "source": [
    "file = open(\"example.txt\", \"r\")\n",
    "content = file.read()\n",
    "print(content)\n",
    "file.close()  # The file must be manually closed"
   ]
  },
  {
   "cell_type": "markdown",
   "metadata": {},
   "source": [
    "Automatic resource management: The file is automatically closed when the block is exited.\n",
    "\n",
    "Cleaner and more concise code.\n",
    "\n",
    "Reduced risk of file-related errors (e.g., forgetting to close the file)."
   ]
  },
  {
   "cell_type": "code",
   "execution_count": 28,
   "metadata": {},
   "outputs": [],
   "source": [
    "# Writing to a file in binary mode\n",
    "with open(\"example.bin\", \"wb\") as file:\n",
    "    file.write(b\"Hello, this is a test file.\") \n",
    "#     file.write(message.encode())\n"
   ]
  },
  {
   "cell_type": "markdown",
   "metadata": {},
   "source": [
    "b\"Hello, this is a test file.\": The b prefix converts the string to a bytes object, which is required when writing to a file in binary mode.\n",
    "\n",
    "message.encode(): The .encode() method converts the string message to bytes, which can then be written to a binary file."
   ]
  },
  {
   "cell_type": "code",
   "execution_count": 29,
   "metadata": {},
   "outputs": [
    {
     "name": "stdout",
     "output_type": "stream",
     "text": [
      "b'Hello, this is a test file.'\n",
      "Hello, this is a test file.\n"
     ]
    }
   ],
   "source": [
    "with open(\"example.bin\", \"rb\") as file:\n",
    "    content = file.read()\n",
    "    print(content)  # b'Hello, this is a test file.'\n",
    "    print(content.decode())  # Hello, this is a test file.\n"
   ]
  },
  {
   "cell_type": "code",
   "execution_count": null,
   "metadata": {},
   "outputs": [],
   "source": []
  },
  {
   "cell_type": "code",
   "execution_count": null,
   "metadata": {},
   "outputs": [],
   "source": []
  },
  {
   "cell_type": "code",
   "execution_count": null,
   "metadata": {},
   "outputs": [],
   "source": []
  },
  {
   "cell_type": "code",
   "execution_count": null,
   "metadata": {},
   "outputs": [],
   "source": []
  },
  {
   "cell_type": "code",
   "execution_count": null,
   "metadata": {},
   "outputs": [],
   "source": []
  },
  {
   "cell_type": "code",
   "execution_count": null,
   "metadata": {},
   "outputs": [],
   "source": []
  },
  {
   "cell_type": "code",
   "execution_count": null,
   "metadata": {},
   "outputs": [],
   "source": [
    "# Optional:\n",
    "# The line if __name__ == \"__main__\": is a common idiom in Python that checks whether the current script is being run as the main program or if it is being imported as a module into another script.\n"
   ]
  },
  {
   "cell_type": "code",
   "execution_count": 1,
   "metadata": {},
   "outputs": [
    {
     "name": "stdout",
     "output_type": "stream",
     "text": [
      "The square root of 25 is 5.0\n"
     ]
    }
   ],
   "source": [
    "#Optional:\n",
    "import math\n",
    "\n",
    "number = 25\n",
    "sqrt_result = math.sqrt(number)\n",
    "print(f\"The square root of {number} is {sqrt_result}\")\n",
    "# Output: The square root of 25 is 5.0\n"
   ]
  },
  {
   "cell_type": "code",
   "execution_count": 2,
   "metadata": {},
   "outputs": [
    {
     "name": "stdout",
     "output_type": "stream",
     "text": [
      "The value of pi is 3.141592653589793\n",
      "The value of e is 2.718281828459045\n"
     ]
    }
   ],
   "source": [
    "import math\n",
    "\n",
    "pi_value = math.pi\n",
    "print(f\"The value of pi is {pi_value}\")\n",
    "# Output: The value of pi is 3.141592653589793\n",
    "\n",
    "e_value = math.e\n",
    "print(f\"The value of e is {e_value}\")\n",
    "# Output: The value of e is 2.718281828459045\n"
   ]
  },
  {
   "cell_type": "code",
   "execution_count": 3,
   "metadata": {},
   "outputs": [
    {
     "name": "stdout",
     "output_type": "stream",
     "text": [
      "Sine of 90 degrees is 1.0\n",
      "Cosine of 90 degrees is 6.123233995736766e-17\n",
      "Tangent of 90 degrees is 1.633123935319537e+16\n"
     ]
    }
   ],
   "source": [
    "import math\n",
    "\n",
    "angle = math.radians(90)  # Converting degrees to radians\n",
    "sine_result = math.sin(angle)\n",
    "cosine_result = math.cos(angle)\n",
    "tangent_result = math.tan(angle)\n",
    "\n",
    "print(f\"Sine of 90 degrees is {sine_result}\")\n",
    "print(f\"Cosine of 90 degrees is {cosine_result}\")\n",
    "print(f\"Tangent of 90 degrees is {tangent_result}\")\n",
    "# Output:\n",
    "# Sine of 90 degrees is 1.0\n",
    "# Cosine of 90 degrees is 6.123233995736766e-17 (approximately 0)\n",
    "# Tangent of 90 degrees is 1.633123935319537e+16 (approximately infinity)\n"
   ]
  },
  {
   "cell_type": "code",
   "execution_count": 4,
   "metadata": {},
   "outputs": [
    {
     "name": "stdout",
     "output_type": "stream",
     "text": [
      "Sine of 90 degrees is 1.0\n",
      "Cosine of 90 degrees is 6.123233995736766e-17\n",
      "Tangent of 90 degrees is 1.633123935319537e+16\n"
     ]
    }
   ],
   "source": [
    "import math\n",
    "\n",
    "angle = math.radians(90)  # Converting degrees to radians\n",
    "sine_result = math.sin(angle)\n",
    "cosine_result = math.cos(angle)\n",
    "tangent_result = math.tan(angle)\n",
    "\n",
    "print(f\"Sine of 90 degrees is {sine_result}\")\n",
    "print(f\"Cosine of 90 degrees is {cosine_result}\")\n",
    "print(f\"Tangent of 90 degrees is {tangent_result}\")\n",
    "# Output:\n",
    "# Sine of 90 degrees is 1.0\n",
    "# Cosine of 90 degrees is 6.123233995736766e-17 (approximately 0)\n",
    "# Tangent of 90 degrees is 1.633123935319537e+16 (approximately infinity)\n"
   ]
  },
  {
   "cell_type": "markdown",
   "metadata": {},
   "source": [
    "# Exercice \n",
    "Calculate the frequency of each number in a given list. And return in a dictionary."
   ]
  },
  {
   "cell_type": "code",
   "execution_count": 1,
   "metadata": {},
   "outputs": [
    {
     "name": "stdout",
     "output_type": "stream",
     "text": [
      "{5: 4, 2: 3, 3: 2, 6: 2, 8: 1, 9: 1, 7: 1}\n"
     ]
    }
   ],
   "source": [
    "def count_elements(numbers):\n",
    "    count_dict = {}\n",
    "    for num in numbers:\n",
    "        if num in count_dict:\n",
    "            count_dict[num] += 1\n",
    "        else:\n",
    "            count_dict[num] = 1\n",
    "    return count_dict\n",
    "\n",
    "# Test the function\n",
    "numbers = [5, 2, 3, 5, 6, 2, 5, 8, 9, 2, 3, 5, 6,7]\n",
    "result = count_elements(numbers)\n",
    "print(result)"
   ]
  },
  {
   "cell_type": "code",
   "execution_count": 46,
   "metadata": {},
   "outputs": [
    {
     "name": "stdout",
     "output_type": "stream",
     "text": [
      "[0][1]\n"
     ]
    }
   ],
   "source": [
    "number = [2,7,11,15] \n",
    "for i in range(len(number)):\n",
    "    nums = number[i+1:len(number)]\n",
    "    for num in nums:\n",
    "        sum = number[i]+num\n",
    "        if sum==9:\n",
    "            x = i\n",
    "            y = number.index(num)\n",
    "            break\n",
    "    if sum == 9:\n",
    "        break\n",
    "print(f\"[{x}][{y}]\")\n",
    "    "
   ]
  },
  {
   "cell_type": "markdown",
   "metadata": {},
   "source": []
  },
  {
   "cell_type": "markdown",
   "metadata": {},
   "source": []
  }
 ],
 "metadata": {
  "kernelspec": {
   "display_name": "Python 3 (ipykernel)",
   "language": "python",
   "name": "python3"
  },
  "language_info": {
   "codemirror_mode": {
    "name": "ipython",
    "version": 3
   },
   "file_extension": ".py",
   "mimetype": "text/x-python",
   "name": "python",
   "nbconvert_exporter": "python",
   "pygments_lexer": "ipython3",
   "version": "3.11.1"
  }
 },
 "nbformat": 4,
 "nbformat_minor": 2
}
