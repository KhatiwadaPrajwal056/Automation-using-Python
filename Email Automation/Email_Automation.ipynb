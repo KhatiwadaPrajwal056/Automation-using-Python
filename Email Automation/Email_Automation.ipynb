{
 "cells": [
  {
   "cell_type": "markdown",
   "metadata": {},
   "source": [
    "# Sending Mail using Python:\n",
    "\n",
    "1. Plain text\n",
    "2. Html\n",
    "3. Image\n",
    "4. document"
   ]
  },
  {
   "cell_type": "markdown",
   "metadata": {},
   "source": [
    "# 1. Emaling `Plain` Text"
   ]
  },
  {
   "cell_type": "code",
   "execution_count": 54,
   "metadata": {},
   "outputs": [],
   "source": [
    "# Imports\n",
    "import os\n",
    "# from email.message import EmailMessage\n",
    "from email.mime.text import MIMEText\n",
    "import ssl  #Secure Sockets Layer (SSL)  # standard for data security, Secure communication betn server and client \n",
    "\n",
    "import smtplib #Python offers a library to send emails- “SMTP” Library. “smtplib” creates a Simple Mail Transfer Protocol (SMTP) client session object which is used to send emails to any valid Email ID on the internet."
   ]
  },
  {
   "cell_type": "code",
   "execution_count": 48,
   "metadata": {},
   "outputs": [
    {
     "name": "stdout",
     "output_type": "stream",
     "text": [
      "Done\n"
     ]
    }
   ],
   "source": [
    "email_sender = 'kan077bct056@kec.edu.np'\n",
    "email_password = 'PRAJWAL123'\n",
    "email_receiver = 'khatiwadaprajwal22@gmail.com'\n",
    "\n",
    "subject = \"Just a test\"\n",
    "\n",
    "body = '''Hello DLS,\n",
    "This is me sending to notify you that this is my first mail. \n",
    "'''\n",
    "#Instantiate : \n",
    "mail = MIMEText(body,_subtype='plain') \n",
    "mail[\"From\"] = email_sender\n",
    "mail[\"To\"] = email_receiver\n",
    "mail[\"Subject\"] = subject\n",
    "# define the body of the email : use set_content\n",
    "\n",
    "\n",
    "# Security::\n",
    "# context = ssl.create_default_context()\n",
    "# smtp.starttls()\n",
    "''' SSL is an older technology that contains some security flaws. \n",
    "    Transport Layer Security (TLS) is the upgraded version of SSL that fixes existing SSL vulnerabilities. \n",
    "    TLS authenticates more efficiently and continues to support encrypted communication channels.\n",
    "'''\n",
    "# now send the email(recommended)[]\n",
    "with smtplib.SMTP('smtp.gmail.com',587) as smtp:\n",
    "    smtp.starttls()\n",
    "    smtp.login(email_sender,email_password)\n",
    "    smtp.sendmail(email_sender,email_receiver,mail.as_string())  # for proper formatting\n",
    "    print(\"Done\")\n",
    "\n",
    "# now send the email(alternate)\n",
    "\n",
    "# with smtplib.SMTP_SSL('smtp.gmail.com',465) as smtp:\n",
    "#     context = ssl.create_default_context()\n",
    "#     smtp.login(email_sender,email_password)\n",
    "#     smtp.sendmail(email_sender,email_receiver,em.as_string())  # for proper formatting\n",
    "#     print(\"Done\")\n",
    "    \n",
    "    \n",
    "# use port 465 (for SSL), or port 587 (for TLS)."
   ]
  },
  {
   "cell_type": "markdown",
   "metadata": {},
   "source": [
    "# Mailing multiple person's :"
   ]
  },
  {
   "cell_type": "code",
   "execution_count": 61,
   "metadata": {
    "scrolled": true
   },
   "outputs": [
    {
     "ename": "SMTPRecipientsRefused",
     "evalue": "{'k': (553, b'5.1.3 The recipient address <k> is not a valid RFC 5321 address. For more\\n5.1.3 information, go to\\n5.1.3  https://support.google.com/a/answer/3221692 and review RFC 5321\\n5.1.3 specifications. d9443c01a7336-1ef0bf33021sm120382615ad.124 - gsmtp')}",
     "output_type": "error",
     "traceback": [
      "\u001b[0;31m---------------------------------------------------------------------------\u001b[0m",
      "\u001b[0;31mSMTPRecipientsRefused\u001b[0m                     Traceback (most recent call last)",
      "Cell \u001b[0;32mIn[61], line 30\u001b[0m\n\u001b[1;32m     28\u001b[0m     smtp\u001b[38;5;241m.\u001b[39mlogin(email_sender,email_password)\n\u001b[1;32m     29\u001b[0m     \u001b[38;5;28;01mfor\u001b[39;00m receiver \u001b[38;5;129;01min\u001b[39;00m email_receiver:\n\u001b[0;32m---> 30\u001b[0m         \u001b[43msmtp\u001b[49m\u001b[38;5;241;43m.\u001b[39;49m\u001b[43msendmail\u001b[49m\u001b[43m(\u001b[49m\u001b[43memail_sender\u001b[49m\u001b[43m,\u001b[49m\u001b[43mreceiver\u001b[49m\u001b[43m,\u001b[49m\u001b[43mmail\u001b[49m\u001b[38;5;241;43m.\u001b[39;49m\u001b[43mas_string\u001b[49m\u001b[43m(\u001b[49m\u001b[43m)\u001b[49m\u001b[43m)\u001b[49m  \u001b[38;5;66;03m# for proper formatting\u001b[39;00m\n\u001b[1;32m     31\u001b[0m         \u001b[38;5;28mprint\u001b[39m(\u001b[38;5;124mf\u001b[39m\u001b[38;5;124m\"\u001b[39m\u001b[38;5;124mEmail sent to \u001b[39m\u001b[38;5;132;01m{\u001b[39;00mreceiver\u001b[38;5;132;01m}\u001b[39;00m\u001b[38;5;124m\"\u001b[39m)\n\u001b[1;32m     32\u001b[0m \u001b[38;5;28mprint\u001b[39m(\u001b[38;5;124m\"\u001b[39m\u001b[38;5;124mDone\u001b[39m\u001b[38;5;124m\"\u001b[39m)\n",
      "File \u001b[0;32m/Library/Frameworks/Python.framework/Versions/3.11/lib/python3.11/smtplib.py:901\u001b[0m, in \u001b[0;36mSMTP.sendmail\u001b[0;34m(self, from_addr, to_addrs, msg, mail_options, rcpt_options)\u001b[0m\n\u001b[1;32m    898\u001b[0m \u001b[38;5;28;01mif\u001b[39;00m \u001b[38;5;28mlen\u001b[39m(senderrs) \u001b[38;5;241m==\u001b[39m \u001b[38;5;28mlen\u001b[39m(to_addrs):\n\u001b[1;32m    899\u001b[0m     \u001b[38;5;66;03m# the server refused all our recipients\u001b[39;00m\n\u001b[1;32m    900\u001b[0m     \u001b[38;5;28mself\u001b[39m\u001b[38;5;241m.\u001b[39m_rset()\n\u001b[0;32m--> 901\u001b[0m     \u001b[38;5;28;01mraise\u001b[39;00m SMTPRecipientsRefused(senderrs)\n\u001b[1;32m    902\u001b[0m (code, resp) \u001b[38;5;241m=\u001b[39m \u001b[38;5;28mself\u001b[39m\u001b[38;5;241m.\u001b[39mdata(msg)\n\u001b[1;32m    903\u001b[0m \u001b[38;5;28;01mif\u001b[39;00m code \u001b[38;5;241m!=\u001b[39m \u001b[38;5;241m250\u001b[39m:\n",
      "\u001b[0;31mSMTPRecipientsRefused\u001b[0m: {'k': (553, b'5.1.3 The recipient address <k> is not a valid RFC 5321 address. For more\\n5.1.3 information, go to\\n5.1.3  https://support.google.com/a/answer/3221692 and review RFC 5321\\n5.1.3 specifications. d9443c01a7336-1ef0bf33021sm120382615ad.124 - gsmtp')}"
     ]
    }
   ],
   "source": [
    "email_sender = 'kan077bct056@kec.edu.np'\n",
    "email_password = 'PRAJWAL123'\n",
    "email_receiver = 'khatiwadaprajwal22@gmail.com,prajwalkhatiwada71@gmail.com'\n",
    "\n",
    "subject = \"Just a test\"\n",
    "\n",
    "body = '''Hello DLS,\n",
    "This is me sending to notify you that this is my first mail. \n",
    "'''\n",
    "#Instantiate : \n",
    "mail = MIMEText(body) \n",
    "mail[\"From\"] = email_sender\n",
    "mail[\"To\"] = email_receiver\n",
    "mail[\"Subject\"] = subject\n",
    "# define the body of the email : use set_content\n",
    "\n",
    "\n",
    "# Security::\n",
    "# context = ssl.create_default_context()\n",
    "# smtp.starttls()\n",
    "''' SSL is an older technology that contains some security flaws. \n",
    "    Transport Layer Security (TLS) is the upgraded version of SSL that fixes existing SSL vulnerabilities. \n",
    "    TLS authenticates more efficiently and continues to support encrypted communication channels.\n",
    "'''\n",
    "# now send the email(recommended)[]\n",
    "with smtplib.SMTP('smtp.gmail.com',587) as smtp:\n",
    "    smtp.starttls()\n",
    "    smtp.login(email_sender,email_password)\n",
    "    for receiver in email_receiver:\n",
    "        smtp.sendmail(email_sender,receiver,mail.as_string())  # for proper formatting\n",
    "        print(f\"Email sent to {receiver}\")\n",
    "print(\"Done\")"
   ]
  },
  {
   "cell_type": "markdown",
   "metadata": {},
   "source": [
    "This format is required by the email standards (RFC 5322) and allows email clients and servers to properly parse and understand the list of recipients."
   ]
  },
  {
   "cell_type": "code",
   "execution_count": 62,
   "metadata": {},
   "outputs": [
    {
     "ename": "AttributeError",
     "evalue": "'list' object has no attribute 'encode'",
     "output_type": "error",
     "traceback": [
      "\u001b[0;31m---------------------------------------------------------------------------\u001b[0m",
      "\u001b[0;31mAttributeError\u001b[0m                            Traceback (most recent call last)",
      "Cell \u001b[0;32mIn[62], line 30\u001b[0m\n\u001b[1;32m     28\u001b[0m     smtp\u001b[38;5;241m.\u001b[39mlogin(email_sender,email_password)\n\u001b[1;32m     29\u001b[0m     \u001b[38;5;28;01mfor\u001b[39;00m receiver \u001b[38;5;129;01min\u001b[39;00m email_receiver:\n\u001b[0;32m---> 30\u001b[0m         smtp\u001b[38;5;241m.\u001b[39msendmail(email_sender,receiver,\u001b[43mmail\u001b[49m\u001b[38;5;241;43m.\u001b[39;49m\u001b[43mas_string\u001b[49m\u001b[43m(\u001b[49m\u001b[43m)\u001b[49m)  \u001b[38;5;66;03m# for proper formatting\u001b[39;00m\n\u001b[1;32m     31\u001b[0m         \u001b[38;5;28mprint\u001b[39m(\u001b[38;5;124mf\u001b[39m\u001b[38;5;124m\"\u001b[39m\u001b[38;5;124mEmail sent to \u001b[39m\u001b[38;5;132;01m{\u001b[39;00mreceiver\u001b[38;5;132;01m}\u001b[39;00m\u001b[38;5;124m\"\u001b[39m)\n\u001b[1;32m     32\u001b[0m \u001b[38;5;28mprint\u001b[39m(\u001b[38;5;124m\"\u001b[39m\u001b[38;5;124mDone\u001b[39m\u001b[38;5;124m\"\u001b[39m)\n",
      "File \u001b[0;32m/Library/Frameworks/Python.framework/Versions/3.11/lib/python3.11/email/message.py:188\u001b[0m, in \u001b[0;36mMessage.as_string\u001b[0;34m(self, unixfrom, maxheaderlen, policy)\u001b[0m\n\u001b[1;32m    183\u001b[0m fp \u001b[38;5;241m=\u001b[39m StringIO()\n\u001b[1;32m    184\u001b[0m g \u001b[38;5;241m=\u001b[39m Generator(fp,\n\u001b[1;32m    185\u001b[0m               mangle_from_\u001b[38;5;241m=\u001b[39m\u001b[38;5;28;01mFalse\u001b[39;00m,\n\u001b[1;32m    186\u001b[0m               maxheaderlen\u001b[38;5;241m=\u001b[39mmaxheaderlen,\n\u001b[1;32m    187\u001b[0m               policy\u001b[38;5;241m=\u001b[39mpolicy)\n\u001b[0;32m--> 188\u001b[0m \u001b[43mg\u001b[49m\u001b[38;5;241;43m.\u001b[39;49m\u001b[43mflatten\u001b[49m\u001b[43m(\u001b[49m\u001b[38;5;28;43mself\u001b[39;49m\u001b[43m,\u001b[49m\u001b[43m \u001b[49m\u001b[43munixfrom\u001b[49m\u001b[38;5;241;43m=\u001b[39;49m\u001b[43munixfrom\u001b[49m\u001b[43m)\u001b[49m\n\u001b[1;32m    189\u001b[0m \u001b[38;5;28;01mreturn\u001b[39;00m fp\u001b[38;5;241m.\u001b[39mgetvalue()\n",
      "File \u001b[0;32m/Library/Frameworks/Python.framework/Versions/3.11/lib/python3.11/email/generator.py:116\u001b[0m, in \u001b[0;36mGenerator.flatten\u001b[0;34m(self, msg, unixfrom, linesep)\u001b[0m\n\u001b[1;32m    114\u001b[0m             ufrom \u001b[38;5;241m=\u001b[39m \u001b[38;5;124m'\u001b[39m\u001b[38;5;124mFrom nobody \u001b[39m\u001b[38;5;124m'\u001b[39m \u001b[38;5;241m+\u001b[39m time\u001b[38;5;241m.\u001b[39mctime(time\u001b[38;5;241m.\u001b[39mtime())\n\u001b[1;32m    115\u001b[0m         \u001b[38;5;28mself\u001b[39m\u001b[38;5;241m.\u001b[39mwrite(ufrom \u001b[38;5;241m+\u001b[39m \u001b[38;5;28mself\u001b[39m\u001b[38;5;241m.\u001b[39m_NL)\n\u001b[0;32m--> 116\u001b[0m     \u001b[38;5;28;43mself\u001b[39;49m\u001b[38;5;241;43m.\u001b[39;49m\u001b[43m_write\u001b[49m\u001b[43m(\u001b[49m\u001b[43mmsg\u001b[49m\u001b[43m)\u001b[49m\n\u001b[1;32m    117\u001b[0m \u001b[38;5;28;01mfinally\u001b[39;00m:\n\u001b[1;32m    118\u001b[0m     \u001b[38;5;28mself\u001b[39m\u001b[38;5;241m.\u001b[39mpolicy \u001b[38;5;241m=\u001b[39m old_gen_policy\n",
      "File \u001b[0;32m/Library/Frameworks/Python.framework/Versions/3.11/lib/python3.11/email/generator.py:199\u001b[0m, in \u001b[0;36mGenerator._write\u001b[0;34m(self, msg)\u001b[0m\n\u001b[1;32m    197\u001b[0m meth \u001b[38;5;241m=\u001b[39m \u001b[38;5;28mgetattr\u001b[39m(msg, \u001b[38;5;124m'\u001b[39m\u001b[38;5;124m_write_headers\u001b[39m\u001b[38;5;124m'\u001b[39m, \u001b[38;5;28;01mNone\u001b[39;00m)\n\u001b[1;32m    198\u001b[0m \u001b[38;5;28;01mif\u001b[39;00m meth \u001b[38;5;129;01mis\u001b[39;00m \u001b[38;5;28;01mNone\u001b[39;00m:\n\u001b[0;32m--> 199\u001b[0m     \u001b[38;5;28;43mself\u001b[39;49m\u001b[38;5;241;43m.\u001b[39;49m\u001b[43m_write_headers\u001b[49m\u001b[43m(\u001b[49m\u001b[43mmsg\u001b[49m\u001b[43m)\u001b[49m\n\u001b[1;32m    200\u001b[0m \u001b[38;5;28;01melse\u001b[39;00m:\n\u001b[1;32m    201\u001b[0m     meth(\u001b[38;5;28mself\u001b[39m)\n",
      "File \u001b[0;32m/Library/Frameworks/Python.framework/Versions/3.11/lib/python3.11/email/generator.py:226\u001b[0m, in \u001b[0;36mGenerator._write_headers\u001b[0;34m(self, msg)\u001b[0m\n\u001b[1;32m    224\u001b[0m \u001b[38;5;28;01mdef\u001b[39;00m \u001b[38;5;21m_write_headers\u001b[39m(\u001b[38;5;28mself\u001b[39m, msg):\n\u001b[1;32m    225\u001b[0m     \u001b[38;5;28;01mfor\u001b[39;00m h, v \u001b[38;5;129;01min\u001b[39;00m msg\u001b[38;5;241m.\u001b[39mraw_items():\n\u001b[0;32m--> 226\u001b[0m         \u001b[38;5;28mself\u001b[39m\u001b[38;5;241m.\u001b[39mwrite(\u001b[38;5;28;43mself\u001b[39;49m\u001b[38;5;241;43m.\u001b[39;49m\u001b[43mpolicy\u001b[49m\u001b[38;5;241;43m.\u001b[39;49m\u001b[43mfold\u001b[49m\u001b[43m(\u001b[49m\u001b[43mh\u001b[49m\u001b[43m,\u001b[49m\u001b[43m \u001b[49m\u001b[43mv\u001b[49m\u001b[43m)\u001b[49m)\n\u001b[1;32m    227\u001b[0m     \u001b[38;5;66;03m# A blank line always separates headers from body\u001b[39;00m\n\u001b[1;32m    228\u001b[0m     \u001b[38;5;28mself\u001b[39m\u001b[38;5;241m.\u001b[39mwrite(\u001b[38;5;28mself\u001b[39m\u001b[38;5;241m.\u001b[39m_NL)\n",
      "File \u001b[0;32m/Library/Frameworks/Python.framework/Versions/3.11/lib/python3.11/email/_policybase.py:326\u001b[0m, in \u001b[0;36mCompat32.fold\u001b[0;34m(self, name, value)\u001b[0m\n\u001b[1;32m    318\u001b[0m \u001b[38;5;28;01mdef\u001b[39;00m \u001b[38;5;21mfold\u001b[39m(\u001b[38;5;28mself\u001b[39m, name, value):\n\u001b[1;32m    319\u001b[0m \u001b[38;5;250m    \u001b[39m\u001b[38;5;124;03m\"\"\"+\u001b[39;00m\n\u001b[1;32m    320\u001b[0m \u001b[38;5;124;03m    Headers are folded using the Header folding algorithm, which preserves\u001b[39;00m\n\u001b[1;32m    321\u001b[0m \u001b[38;5;124;03m    existing line breaks in the value, and wraps each resulting line to the\u001b[39;00m\n\u001b[0;32m   (...)\u001b[0m\n\u001b[1;32m    324\u001b[0m \n\u001b[1;32m    325\u001b[0m \u001b[38;5;124;03m    \"\"\"\u001b[39;00m\n\u001b[0;32m--> 326\u001b[0m     \u001b[38;5;28;01mreturn\u001b[39;00m \u001b[38;5;28;43mself\u001b[39;49m\u001b[38;5;241;43m.\u001b[39;49m\u001b[43m_fold\u001b[49m\u001b[43m(\u001b[49m\u001b[43mname\u001b[49m\u001b[43m,\u001b[49m\u001b[43m \u001b[49m\u001b[43mvalue\u001b[49m\u001b[43m,\u001b[49m\u001b[43m \u001b[49m\u001b[43msanitize\u001b[49m\u001b[38;5;241;43m=\u001b[39;49m\u001b[38;5;28;43;01mTrue\u001b[39;49;00m\u001b[43m)\u001b[49m\n",
      "File \u001b[0;32m/Library/Frameworks/Python.framework/Versions/3.11/lib/python3.11/email/_policybase.py:369\u001b[0m, in \u001b[0;36mCompat32._fold\u001b[0;34m(self, name, value, sanitize)\u001b[0m\n\u001b[1;32m    367\u001b[0m     \u001b[38;5;28;01mif\u001b[39;00m \u001b[38;5;28mself\u001b[39m\u001b[38;5;241m.\u001b[39mmax_line_length \u001b[38;5;129;01mis\u001b[39;00m \u001b[38;5;129;01mnot\u001b[39;00m \u001b[38;5;28;01mNone\u001b[39;00m:\n\u001b[1;32m    368\u001b[0m         maxlinelen \u001b[38;5;241m=\u001b[39m \u001b[38;5;28mself\u001b[39m\u001b[38;5;241m.\u001b[39mmax_line_length\n\u001b[0;32m--> 369\u001b[0m     parts\u001b[38;5;241m.\u001b[39mappend(\u001b[43mh\u001b[49m\u001b[38;5;241;43m.\u001b[39;49m\u001b[43mencode\u001b[49m(linesep\u001b[38;5;241m=\u001b[39m\u001b[38;5;28mself\u001b[39m\u001b[38;5;241m.\u001b[39mlinesep, maxlinelen\u001b[38;5;241m=\u001b[39mmaxlinelen))\n\u001b[1;32m    370\u001b[0m parts\u001b[38;5;241m.\u001b[39mappend(\u001b[38;5;28mself\u001b[39m\u001b[38;5;241m.\u001b[39mlinesep)\n\u001b[1;32m    371\u001b[0m \u001b[38;5;28;01mreturn\u001b[39;00m \u001b[38;5;124m'\u001b[39m\u001b[38;5;124m'\u001b[39m\u001b[38;5;241m.\u001b[39mjoin(parts)\n",
      "\u001b[0;31mAttributeError\u001b[0m: 'list' object has no attribute 'encode'"
     ]
    }
   ],
   "source": [
    "email_sender = 'kan077bct056@kec.edu.np'\n",
    "email_password = 'PRAJWAL123'\n",
    "email_receiver = ['khatiwadaprajwal22@gmail.com','prajwalkhatiwada71@gmail.com']\n",
    "\n",
    "subject = \"Just a test\"\n",
    "\n",
    "body = '''Hello DLS,\n",
    "This is me sending to notify you that this is my first mail. \n",
    "'''\n",
    "#Instantiate : \n",
    "mail = MIMEText(body) \n",
    "mail[\"From\"] = email_sender\n",
    "mail[\"To\"] = email_receiver\n",
    "mail[\"Subject\"] = subject\n",
    "# define the body of the email : use set_content\n",
    "\n",
    "\n",
    "# Security::\n",
    "# context = ssl.create_default_context()\n",
    "# smtp.starttls()\n",
    "''' SSL is an older technology that contains some security flaws. \n",
    "    Transport Layer Security (TLS) is the upgraded version of SSL that fixes existing SSL vulnerabilities. \n",
    "    TLS authenticates more efficiently and continues to support encrypted communication channels.\n",
    "'''\n",
    "# now send the email(recommended)[]\n",
    "with smtplib.SMTP('smtp.gmail.com',587) as smtp:\n",
    "    smtp.starttls()\n",
    "    smtp.login(email_sender,email_password)\n",
    "    for receiver in email_receiver:\n",
    "        smtp.sendmail(email_sender,receiver,mail.as_string())  # for proper formatting\n",
    "        print(f\"Email sent to {receiver}\")\n",
    "print(\"Done\")"
   ]
  },
  {
   "cell_type": "markdown",
   "metadata": {},
   "source": [
    "'list' object has no attribute 'encode'\n",
    "\n",
    "Solution to this::"
   ]
  },
  {
   "cell_type": "code",
   "execution_count": 58,
   "metadata": {},
   "outputs": [
    {
     "name": "stdout",
     "output_type": "stream",
     "text": [
      "Email sent to khatiwadaprajwal22@gmail.com\n",
      "Email sent to prajwalkhatiwada71@gmail.com\n",
      "Done\n"
     ]
    }
   ],
   "source": [
    "email_sender = 'kan077bct056@kec.edu.np'\n",
    "email_password = 'PRAJWAL123'\n",
    "email_receiver = ['khatiwadaprajwal22@gmail.com','prajwalkhatiwada71@gmail.com']\n",
    "\n",
    "subject = \"Just a test\"\n",
    "\n",
    "body = '''Hello DLS,\n",
    "This is me sending to notify you that this is my first mail. \n",
    "'''\n",
    "#Instantiate : \n",
    "mail = MIMEText(body) \n",
    "mail[\"From\"] = email_sender\n",
    "mail[\"To\"] = \",\".join(email_receiver)  # Convert the list to a comma-separated string\n",
    "mail[\"Subject\"] = subject\n",
    "# Email Header Requirements: The \"To\" field in an email header needs to be a single string. A list would not be properly interpreted by email servers.\n",
    "\n",
    "\n",
    "\n",
    "# Security::\n",
    "# context = ssl.create_default_context()\n",
    "# smtp.starttls()\n",
    "''' SSL is an older technology that contains some security flaws. \n",
    "    Transport Layer Security (TLS) is the upgraded version of SSL that fixes existing SSL vulnerabilities. \n",
    "    TLS authenticates more efficiently and continues to support encrypted communication channels.\n",
    "'''\n",
    "# now send the email(recommended)[]\n",
    "with smtplib.SMTP('smtp.gmail.com',587) as smtp:\n",
    "    smtp.starttls()\n",
    "    smtp.login(email_sender,email_password)\n",
    "    for receiver in email_receiver:\n",
    "        smtp.sendmail(email_sender,receiver,mail.as_string())  # for proper formatting\n",
    "        print(f\"Email sent to {receiver}\")\n",
    "print(\"Done\")"
   ]
  },
  {
   "cell_type": "code",
   "execution_count": null,
   "metadata": {},
   "outputs": [],
   "source": []
  },
  {
   "cell_type": "markdown",
   "metadata": {},
   "source": [
    "# 2. Emaling `Image` "
   ]
  },
  {
   "cell_type": "code",
   "execution_count": 51,
   "metadata": {},
   "outputs": [],
   "source": [
    "from email.mime.image import MIMEImage\n",
    "from email.mime.multipart import MIMEMultipart"
   ]
  },
  {
   "cell_type": "code",
   "execution_count": 59,
   "metadata": {},
   "outputs": [
    {
     "name": "stdout",
     "output_type": "stream",
     "text": [
      "Email sent to khatiwadaprajwal22@gmail.com\n",
      "Email sent to prajwalkhatiwada71@gmail.com\n",
      "Done\n"
     ]
    }
   ],
   "source": [
    "email_sender = 'kan077bct056@kec.edu.np'\n",
    "email_password = 'PRAJWAL123'\n",
    "email_receiver = ['khatiwadaprajwal22@gmail.com','prajwalkhatiwada71@gmail.com']\n",
    "\n",
    "subject = \"Just a test\"\n",
    "\n",
    "body = '''Hello DLS,\n",
    "This is me sending to notify you that this is my first mail. \n",
    "'''\n",
    "#Instantiate : \n",
    "\n",
    "with open(\"python.jpg\",\"rb\") as img:\n",
    "    image = MIMEImage(img.read())\n",
    "\n",
    "mail = MIMEMultipart() \n",
    "mail.attach(MIMEText(body))\n",
    "mail.attach(image)\n",
    "mail[\"From\"] = email_sender\n",
    "mail[\"To\"] = \",\".join(email_receiver)  # Convert the list to a comma-separated string\n",
    "mail[\"Subject\"] = subject\n",
    "# Email Header Requirements: The \"To\" field in an email header needs to be a single string. A list would not be properly interpreted by email servers.\n",
    "\n",
    "# Security::\n",
    "# context = ssl.create_default_context()\n",
    "# smtp.starttls()\n",
    "''' SSL is an older technology that contains some security flaws. \n",
    "    Transport Layer Security (TLS) is the upgraded version of SSL that fixes existing SSL vulnerabilities. \n",
    "    TLS authenticates more efficiently and continues to support encrypted communication channels.\n",
    "'''\n",
    "# now send the email(recommended)[]\n",
    "with smtplib.SMTP('smtp.gmail.com',587) as smtp:\n",
    "    smtp.starttls()\n",
    "    smtp.login(email_sender,email_password)\n",
    "    for receiver in email_receiver:\n",
    "        smtp.sendmail(email_sender,email_receiver,mail.as_string())  # for proper formatting\n",
    "        print(f\"Email sent to {receiver}\")\n",
    "print(\"Done\")"
   ]
  },
  {
   "cell_type": "code",
   "execution_count": null,
   "metadata": {},
   "outputs": [],
   "source": []
  },
  {
   "cell_type": "markdown",
   "metadata": {},
   "source": [
    "# Emaling `Attachment`:"
   ]
  },
  {
   "cell_type": "code",
   "execution_count": 21,
   "metadata": {},
   "outputs": [],
   "source": [
    "import smtplib\n",
    "from email.mime.base import MIMEBase\n",
    "from email.mime.text import MIMEText\n",
    "from email.mime.multipart import MIMEMultipart\n",
    "from email import encoders # encode all attachments"
   ]
  },
  {
   "cell_type": "code",
   "execution_count": 22,
   "metadata": {},
   "outputs": [],
   "source": [
    "import pandas as pd\n",
    "import numpy as np"
   ]
  },
  {
   "cell_type": "code",
   "execution_count": 23,
   "metadata": {},
   "outputs": [
    {
     "data": {
      "text/plain": [
       "array(['khatiwadaprajwal22@gmail.com', 'prajwalkhatiwada71@gmail.com',\n",
       "       'sagarniroula112@gmail.com'], dtype=object)"
      ]
     },
     "execution_count": 23,
     "metadata": {},
     "output_type": "execute_result"
    }
   ],
   "source": [
    "mail = pd.read_csv(\"test_mail.csv\")\n",
    "email_receiver = np.array(mail[\"Email\"])\n",
    "email_receiver"
   ]
  },
  {
   "cell_type": "code",
   "execution_count": 25,
   "metadata": {},
   "outputs": [
    {
     "name": "stdout",
     "output_type": "stream",
     "text": [
      "Email sent to khatiwadaprajwal22@gmail.com\n",
      "Email sent to prajwalkhatiwada71@gmail.com\n",
      "Email sent to sagarniroula112@gmail.com\n",
      "Done\n"
     ]
    }
   ],
   "source": [
    "email_sender = 'kan077bct056@kec.edu.np'\n",
    "email_password = 'PRAJWAL123'\n",
    "# email_receiver = ['khatiwadaprajwal22@gmail.com','prajwalkhatiwada71@gmail.com']\n",
    "\n",
    "subject = \"Remainder To Automation Using Python\"\n",
    "\n",
    "body = '''\n",
    "\n",
    "Dear Participant,\n",
    "\n",
    "This is a friendly reminder about our upcoming 4-day workshop on Automation using Python, which will be held from tommorrow i.e May 20th to May 23rd. We are excited to have you join us and hope you will attend all four days of the session.\n",
    "\n",
    "Due to the high number of registrations, we have split the participants into two groups. Each group will be instructed in separate rooms simultaneously by different instructors to ensure a more interactive and personalized learning experience.\n",
    "\n",
    "Attached below is the list of participants in Group A. Please check the list to find out which group you are in.\n",
    "\n",
    "Looking forward to seeing you tomorrow!\n",
    "\n",
    "P.S : This mail is send using autiomation which we be learning in the coming session.\n",
    "\n",
    "Drive Folder for media sharing: https://drive.google.com/drive/folders/14mZLHKxz3L5wLA-inPnDY_cxyDtKkexp?usp=sharing\n",
    "\n",
    "Best regards,\n",
    "KEC Computer Club\n",
    "\n",
    "Contact : \n",
    "Gaurav Giri: 9814596362\n",
    "Prajwal Khatiwada: 9822769496\n",
    "Roshan Pandey: 9842482062\n",
    " \n",
    "'''\n",
    "\n",
    "\n",
    "# take the file and open it in binary form\n",
    "with open(\"/Users/khatiwadaprajwal22icloud.com/Desktop/Group A.pdf\",\"rb\") as attachment:\n",
    "    attachment_package = MIMEBase(\"application\",\"octet-stream\") # base class , nor text nor image, its like parent class\n",
    "    attachment_package.set_payload(attachment.read()) # main msg chai k ho ta\n",
    "    encoders.encode_base64(attachment_package)# send garda string garne ho so base64 encoding garera str ma lagne bho\n",
    "    attachment_package.add_header(\"Content-Disposition\",\n",
    "    \"attachement; filename= Group-A.pdf\")\n",
    "\n",
    "mail = MIMEMultipart() \n",
    "mail.attach(MIMEText(body))\n",
    "mail.attach(attachment_package)\n",
    "mail[\"From\"] = email_sender\n",
    "mail[\"To\"] = \",\".join(email_receiver)  # Convert the list to a comma-separated string\n",
    "mail[\"Subject\"] = subject\n",
    "# Email Header Requirements: The \"To\" field in an email header needs to be a single string. A list would not be properly interpreted by email servers.\n",
    "\n",
    "# Security::\n",
    "# context = ssl.create_default_context()\n",
    "# smtp.starttls()\n",
    "''' SSL is an older technology that contains some security flaws. \n",
    "    Transport Layer Security (TLS) is the upgraded version of SSL that fixes existing SSL vulnerabilities. \n",
    "    TLS authenticates more efficiently and continues to support encrypted communication channels.\n",
    "'''\n",
    "# now send the email(recommended)[]\n",
    "with smtplib.SMTP('smtp.gmail.com',587) as smtp:\n",
    "    smtp.starttls()\n",
    "    smtp.login(email_sender,email_password)\n",
    "    for receiver in email_receiver:\n",
    "        smtp.sendmail(email_sender,email_receiver,mail.as_string())  # for proper formatting\n",
    "        print(f\"Email sent to {receiver}\")\n",
    "print(\"Done\")  "
   ]
  },
  {
   "cell_type": "code",
   "execution_count": null,
   "metadata": {},
   "outputs": [],
   "source": []
  },
  {
   "cell_type": "code",
   "execution_count": null,
   "metadata": {},
   "outputs": [],
   "source": []
  }
 ],
 "metadata": {
  "kernelspec": {
   "display_name": "Python 3 (ipykernel)",
   "language": "python",
   "name": "python3"
  },
  "language_info": {
   "codemirror_mode": {
    "name": "ipython",
    "version": 3
   },
   "file_extension": ".py",
   "mimetype": "text/x-python",
   "name": "python",
   "nbconvert_exporter": "python",
   "pygments_lexer": "ipython3",
   "version": "3.11.1"
  }
 },
 "nbformat": 4,
 "nbformat_minor": 2
}
