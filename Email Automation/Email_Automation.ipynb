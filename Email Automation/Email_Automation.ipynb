{
 "cells": [
  {
   "cell_type": "markdown",
   "metadata": {},
   "source": [
    "# Sending Mail using Python:"
   ]
  },
  {
   "cell_type": "code",
   "execution_count": 4,
   "metadata": {},
   "outputs": [],
   "source": [
    "# Imports\n",
    "import os\n",
    "from email.message import EmailMessage\n",
    "import ssl  # standard for data security \n",
    "\n",
    "import smtplib"
   ]
  },
  {
   "cell_type": "code",
   "execution_count": 5,
   "metadata": {},
   "outputs": [
    {
     "name": "stdout",
     "output_type": "stream",
     "text": [
      "Done\n"
     ]
    }
   ],
   "source": [
    "email_sender = 'kan077bct056@kec.edu.np'\n",
    "email_password = 'PRAJWAL123'\n",
    "email_receiver = 'khatiwadaprajwal22@gmail.com'\n",
    "\n",
    "subject = \"Just a test mail\"\n",
    "\n",
    "body = '''Hello,\n",
    "This is me sending you this mail to notify that this is my first mail.\n",
    "'''\n",
    "#Instantiate : \n",
    "em = EmailMessage()\n",
    "em[\"From\"] = email_sender\n",
    "em[\"To\"] = email_receiver\n",
    "em[\"Subject\"] = subject\n",
    "# define the body of the email : use set_content\n",
    "em.set_content(body)\n",
    "\n",
    "# security\n",
    "\n",
    "context = ssl.create_default_context()\n",
    "\n",
    "\n",
    "# now send the email\n",
    "\n",
    "with smtplib.SMTP_SSL('smtp.gmail.com',465,context=context) as smtp:\n",
    "    smtp.login(email_sender,email_password)\n",
    "    smtp.sendmail(email_sender,email_receiver,em.as_string())  # for proper formatting\n",
    "    print(\"Done\")\n"
   ]
  },
  {
   "cell_type": "code",
   "execution_count": null,
   "metadata": {},
   "outputs": [],
   "source": []
  },
  {
   "cell_type": "code",
   "execution_count": null,
   "metadata": {},
   "outputs": [],
   "source": []
  },
  {
   "cell_type": "code",
   "execution_count": null,
   "metadata": {},
   "outputs": [],
   "source": []
  },
  {
   "cell_type": "code",
   "execution_count": null,
   "metadata": {},
   "outputs": [],
   "source": []
  },
  {
   "cell_type": "code",
   "execution_count": null,
   "metadata": {},
   "outputs": [],
   "source": []
  },
  {
   "cell_type": "code",
   "execution_count": null,
   "metadata": {},
   "outputs": [],
   "source": []
  }
 ],
 "metadata": {
  "kernelspec": {
   "display_name": "Python 3 (ipykernel)",
   "language": "python",
   "name": "python3"
  },
  "language_info": {
   "codemirror_mode": {
    "name": "ipython",
    "version": 3
   },
   "file_extension": ".py",
   "mimetype": "text/x-python",
   "name": "python",
   "nbconvert_exporter": "python",
   "pygments_lexer": "ipython3",
   "version": "3.11.1"
  }
 },
 "nbformat": 4,
 "nbformat_minor": 2
}
