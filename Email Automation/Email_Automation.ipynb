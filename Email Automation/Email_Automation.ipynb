{
 "cells": [
  {
   "cell_type": "markdown",
   "metadata": {},
   "source": [
    "# Sending Mail using Python:"
   ]
  },
  {
   "cell_type": "code",
   "execution_count": null,
   "metadata": {},
   "outputs": [],
   "source": [
    "# Imports\n",
    "import os\n",
    "from email.message import EmailMessage\n",
    "import ssl  #Secure Sockets Layer (SSL)  # standard for data security, Secure communication betn server and client \n",
    "\n",
    "import smtplib #Python offers a library to send emails- “SMTP” Library. “smtplib” creates a Simple Mail Transfer Protocol (SMTP) client session object which is used to send emails to any valid Email ID on the internet."
   ]
  },
  {
   "cell_type": "code",
   "execution_count": 27,
   "metadata": {},
   "outputs": [
    {
     "name": "stdout",
     "output_type": "stream",
     "text": [
      "Done\n"
     ]
    }
   ],
   "source": [
    "email_sender = 'kan077bct056@kec.edu.np'\n",
    "email_password = 'PRAJWAL123'\n",
    "email_receiver = 'kan077bct051@kec.edu.np'\n",
    "\n",
    "subject = \"Just a test\"\n",
    "\n",
    "body = '''Hello DLS,\n",
    "This is me sending to notify you that this is my first mail. \n",
    "'''\n",
    "#Instantiate : \n",
    "em = EmailMessage() \n",
    "em[\"From\"] = email_sender\n",
    "em[\"To\"] = email_receiver\n",
    "em[\"Subject\"] = subject\n",
    "# define the body of the email : use set_content\n",
    "em.set_content(body)\n",
    "\n",
    "# Security::\n",
    "# context = ssl.create_default_context()\n",
    "# smtp.starttls()\n",
    "# server.ehlo()\n",
    "''' SSL is an older technology that contains some security flaws. \n",
    "    Transport Layer Security (TLS) is the upgraded version of SSL that fixes existing SSL vulnerabilities. \n",
    "    TLS authenticates more efficiently and continues to support encrypted communication channels.\n",
    "'''\n",
    "# now send the email(recommended)[]\n",
    "with smtplib.SMTP('smtp.gmail.com',587) as smtp:\n",
    "    smtp.starttls()\n",
    "    smtp.login(email_sender,email_password)\n",
    "    smtp.sendmail(email_sender,email_receiver,em.as_string())  # for proper formatting\n",
    "    print(\"Done\")\n",
    "\n",
    "# now send the email(alternate)\n",
    "\n",
    "# with smtplib.SMTP_SSL('smtp.gmail.com',465) as smtp:\n",
    "#     context = ssl.create_default_context()\n",
    "#     smtp.login(email_sender,email_password)\n",
    "#     smtp.sendmail(email_sender,email_receiver,em.as_string())  # for proper formatting\n",
    "#     print(\"Done\")\n",
    "    \n",
    "    \n"
   ]
  },
  {
   "cell_type": "code",
   "execution_count": null,
   "metadata": {},
   "outputs": [],
   "source": []
  },
  {
   "cell_type": "code",
   "execution_count": null,
   "metadata": {},
   "outputs": [],
   "source": []
  },
  {
   "cell_type": "code",
   "execution_count": null,
   "metadata": {},
   "outputs": [],
   "source": []
  },
  {
   "cell_type": "code",
   "execution_count": null,
   "metadata": {},
   "outputs": [],
   "source": []
  },
  {
   "cell_type": "code",
   "execution_count": null,
   "metadata": {},
   "outputs": [],
   "source": []
  },
  {
   "cell_type": "code",
   "execution_count": null,
   "metadata": {},
   "outputs": [],
   "source": []
  }
 ],
 "metadata": {
  "kernelspec": {
   "display_name": "Python 3 (ipykernel)",
   "language": "python",
   "name": "python3"
  },
  "language_info": {
   "codemirror_mode": {
    "name": "ipython",
    "version": 3
   },
   "file_extension": ".py",
   "mimetype": "text/x-python",
   "name": "python",
   "nbconvert_exporter": "python",
   "pygments_lexer": "ipython3",
   "version": "3.11.1"
  }
 },
 "nbformat": 4,
 "nbformat_minor": 2
}
