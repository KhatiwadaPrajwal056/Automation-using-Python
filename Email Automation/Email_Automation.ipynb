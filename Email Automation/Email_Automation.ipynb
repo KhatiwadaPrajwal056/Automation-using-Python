{
 "cells": [
  {
   "cell_type": "markdown",
   "metadata": {},
   "source": [
    "# Sending Mail using Python:\n",
    "\n",
    "1. Plain text\n",
    "2. Html\n",
    "3. Image\n",
    "4. document"
   ]
  },
  {
   "cell_type": "markdown",
   "metadata": {},
   "source": [
    "# 1. Emaling `Plain` Text"
   ]
  },
  {
   "cell_type": "code",
   "execution_count": 54,
   "metadata": {},
   "outputs": [],
   "source": [
    "# Imports\n",
    "import os\n",
    "# from email.message import EmailMessage\n",
    "from email.mime.text import MIMEText\n",
    "import ssl  #Secure Sockets Layer (SSL)  # standard for data security, Secure communication betn server and client \n",
    "\n",
    "import smtplib #Python offers a library to send emails- “SMTP” Library. “smtplib” creates a Simple Mail Transfer Protocol (SMTP) client session object which is used to send emails to any valid Email ID on the internet."
   ]
  },
  {
   "cell_type": "code",
   "execution_count": 48,
   "metadata": {},
   "outputs": [
    {
     "name": "stdout",
     "output_type": "stream",
     "text": [
      "Done\n"
     ]
    }
   ],
   "source": [
    "email_sender = 'kan077bct056@kec.edu.np'\n",
    "email_password = 'PRAJWAL123'\n",
    "email_receiver = 'khatiwadaprajwal22@gmail.com'\n",
    "\n",
    "subject = \"Just a test\"\n",
    "\n",
    "body = '''Hello DLS,\n",
    "This is me sending to notify you that this is my first mail. \n",
    "'''\n",
    "#Instantiate : \n",
    "mail = MIMEText(body,_subtype='plain') \n",
    "mail[\"From\"] = email_sender\n",
    "mail[\"To\"] = email_receiver\n",
    "mail[\"Subject\"] = subject\n",
    "# define the body of the email : use set_content\n",
    "\n",
    "\n",
    "# Security::\n",
    "# context = ssl.create_default_context()\n",
    "# smtp.starttls()\n",
    "''' SSL is an older technology that contains some security flaws. \n",
    "    Transport Layer Security (TLS) is the upgraded version of SSL that fixes existing SSL vulnerabilities. \n",
    "    TLS authenticates more efficiently and continues to support encrypted communication channels.\n",
    "'''\n",
    "# now send the email(recommended)[]\n",
    "with smtplib.SMTP('smtp.gmail.com',587) as smtp:\n",
    "    smtp.starttls()\n",
    "    smtp.login(email_sender,email_password)\n",
    "    smtp.sendmail(email_sender,email_receiver,mail.as_string())  # for proper formatting\n",
    "    print(\"Done\")\n",
    "\n",
    "# now send the email(alternate)\n",
    "\n",
    "# with smtplib.SMTP_SSL('smtp.gmail.com',465) as smtp:\n",
    "#     context = ssl.create_default_context()\n",
    "#     smtp.login(email_sender,email_password)\n",
    "#     smtp.sendmail(email_sender,email_receiver,em.as_string())  # for proper formatting\n",
    "#     print(\"Done\")\n",
    "    \n",
    "    \n",
    "# use port 465 (for SSL), or port 587 (for TLS)."
   ]
  },
  {
   "cell_type": "markdown",
   "metadata": {},
   "source": [
    "# Mailing multiple person's :"
   ]
  },
  {
   "cell_type": "code",
   "execution_count": 58,
   "metadata": {},
   "outputs": [
    {
     "name": "stdout",
     "output_type": "stream",
     "text": [
      "Email sent to khatiwadaprajwal22@gmail.com\n",
      "Email sent to prajwalkhatiwada71@gmail.com\n",
      "Done\n"
     ]
    }
   ],
   "source": [
    "email_sender = 'kan077bct056@kec.edu.np'\n",
    "email_password = 'PRAJWAL123'\n",
    "email_receiver = ['khatiwadaprajwal22@gmail.com','prajwalkhatiwada71@gmail.com']\n",
    "\n",
    "subject = \"Just a test\"\n",
    "\n",
    "body = '''Hello DLS,\n",
    "This is me sending to notify you that this is my first mail. \n",
    "'''\n",
    "#Instantiate : \n",
    "mail = MIMEText(body) \n",
    "mail[\"From\"] = email_sender\n",
    "mail[\"To\"] = \",\".join(email_receiver)\n",
    "mail[\"Subject\"] = subject\n",
    "# define the body of the email : use set_content\n",
    "\n",
    "\n",
    "# Security::\n",
    "# context = ssl.create_default_context()\n",
    "# smtp.starttls()\n",
    "''' SSL is an older technology that contains some security flaws. \n",
    "    Transport Layer Security (TLS) is the upgraded version of SSL that fixes existing SSL vulnerabilities. \n",
    "    TLS authenticates more efficiently and continues to support encrypted communication channels.\n",
    "'''\n",
    "# now send the email(recommended)[]\n",
    "with smtplib.SMTP('smtp.gmail.com',587) as smtp:\n",
    "    smtp.starttls()\n",
    "    smtp.login(email_sender,email_password)\n",
    "    for receiver in email_receiver:\n",
    "        smtp.sendmail(email_sender,receiver,mail.as_string())  # for proper formatting\n",
    "        print(f\"Email sent to {receiver}\")\n",
    "print(\"Done\")"
   ]
  },
  {
   "cell_type": "code",
   "execution_count": null,
   "metadata": {},
   "outputs": [],
   "source": []
  },
  {
   "cell_type": "markdown",
   "metadata": {},
   "source": [
    "# 2. Emaling `Image` "
   ]
  },
  {
   "cell_type": "code",
   "execution_count": 51,
   "metadata": {},
   "outputs": [],
   "source": [
    "from email.mime.image import MIMEImage\n",
    "from email.mime.multipart import MIMEMultipart"
   ]
  },
  {
   "cell_type": "code",
   "execution_count": 59,
   "metadata": {},
   "outputs": [
    {
     "name": "stdout",
     "output_type": "stream",
     "text": [
      "Email sent to khatiwadaprajwal22@gmail.com\n",
      "Email sent to prajwalkhatiwada71@gmail.com\n",
      "Done\n"
     ]
    }
   ],
   "source": [
    "email_sender = 'kan077bct056@kec.edu.np'\n",
    "email_password = 'PRAJWAL123'\n",
    "email_receiver = ['khatiwadaprajwal22@gmail.com','prajwalkhatiwada71@gmail.com']\n",
    "\n",
    "subject = \"Just a test\"\n",
    "\n",
    "body = '''Hello DLS,\n",
    "This is me sending to notify you that this is my first mail. \n",
    "'''\n",
    "#Instantiate : \n",
    "\n",
    "with open(\"python.jpg\",\"rb\") as img:\n",
    "    image = MIMEImage(img.read())\n",
    "\n",
    "mail = MIMEMultipart() \n",
    "mail.attach(MIMEText(body))\n",
    "mail.attach(image)\n",
    "mail[\"From\"] = email_sender\n",
    "mail[\"To\"] = \",\".join(email_receiver)\n",
    "mail[\"Subject\"] = subject\n",
    "# define the body of the email : use set_content\n",
    "\n",
    "\n",
    "# Security::\n",
    "# context = ssl.create_default_context()\n",
    "# smtp.starttls()\n",
    "''' SSL is an older technology that contains some security flaws. \n",
    "    Transport Layer Security (TLS) is the upgraded version of SSL that fixes existing SSL vulnerabilities. \n",
    "    TLS authenticates more efficiently and continues to support encrypted communication channels.\n",
    "'''\n",
    "# now send the email(recommended)[]\n",
    "with smtplib.SMTP('smtp.gmail.com',587) as smtp:\n",
    "    smtp.starttls()\n",
    "    smtp.login(email_sender,email_password)\n",
    "    for receiver in email_receiver:\n",
    "        smtp.sendmail(email_sender,email_receiver,mail.as_string())  # for proper formatting\n",
    "        print(f\"Email sent to {receiver}\")\n",
    "print(\"Done\")"
   ]
  },
  {
   "cell_type": "code",
   "execution_count": null,
   "metadata": {},
   "outputs": [],
   "source": []
  },
  {
   "cell_type": "code",
   "execution_count": null,
   "metadata": {},
   "outputs": [],
   "source": []
  },
  {
   "cell_type": "code",
   "execution_count": null,
   "metadata": {},
   "outputs": [],
   "source": []
  },
  {
   "cell_type": "code",
   "execution_count": null,
   "metadata": {},
   "outputs": [],
   "source": []
  }
 ],
 "metadata": {
  "kernelspec": {
   "display_name": "Python 3 (ipykernel)",
   "language": "python",
   "name": "python3"
  },
  "language_info": {
   "codemirror_mode": {
    "name": "ipython",
    "version": 3
   },
   "file_extension": ".py",
   "mimetype": "text/x-python",
   "name": "python",
   "nbconvert_exporter": "python",
   "pygments_lexer": "ipython3",
   "version": "3.11.1"
  }
 },
 "nbformat": 4,
 "nbformat_minor": 2
}
