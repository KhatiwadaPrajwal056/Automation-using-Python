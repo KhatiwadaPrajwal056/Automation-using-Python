{
 "cells": [
  {
   "cell_type": "markdown",
   "metadata": {},
   "source": [
    "# File handling amd file organization : navigate, rename, move , copy , remove"
   ]
  },
  {
   "cell_type": "markdown",
   "metadata": {},
   "source": [
    "# Navigate and Rename:"
   ]
  },
  {
   "cell_type": "code",
   "execution_count": 160,
   "metadata": {},
   "outputs": [],
   "source": [
    "import os"
   ]
  },
  {
   "cell_type": "markdown",
   "metadata": {},
   "source": [
    "Get the current working directory : `.getcwd()`"
   ]
  },
  {
   "cell_type": "code",
   "execution_count": 161,
   "metadata": {},
   "outputs": [
    {
     "name": "stdout",
     "output_type": "stream",
     "text": [
      "/Users/khatiwadaprajwal22icloud.com/Desktop/random\n"
     ]
    }
   ],
   "source": [
    "# get the current working directory\n",
    "print(os.getcwd())   # Current directory"
   ]
  },
  {
   "cell_type": "markdown",
   "metadata": {},
   "source": [
    "Change to some other directory: `chdir()`"
   ]
  },
  {
   "cell_type": "code",
   "execution_count": 162,
   "metadata": {},
   "outputs": [
    {
     "name": "stdout",
     "output_type": "stream",
     "text": [
      "/Users/khatiwadaprajwal22icloud.com/Desktop/random\n"
     ]
    }
   ],
   "source": [
    "# Change to some other directory\n",
    "os.chdir('/Users/khatiwadaprajwal22icloud.com/Desktop/random')  # change the directory \n",
    "print(os.getcwd()) \n",
    "# now our current directory is changed\n",
    "# Now i want to work in this directory and play with these files.\n"
   ]
  },
  {
   "cell_type": "markdown",
   "metadata": {},
   "source": [
    "Get the list of all the files in this directory: `.listdir()`"
   ]
  },
  {
   "cell_type": "code",
   "execution_count": 163,
   "metadata": {},
   "outputs": [
    {
     "name": "stdout",
     "output_type": "stream",
     "text": [
      ".DS_Store\n",
      "Untitled-song-of-3.m4a\n",
      "je-chhau-timi-2.mov\n",
      "je-chhau-timi-1.mov\n"
     ]
    }
   ],
   "source": [
    "# Get the list of all the files in this directory\n",
    "for files in os.listdir():\n",
    "    print(files)"
   ]
  },
  {
   "cell_type": "markdown",
   "metadata": {},
   "source": [
    "Here we see there's a file called DS store.\n",
    "What it is? ::\n",
    "        \n",
    "Can be removed"
   ]
  },
  {
   "cell_type": "code",
   "execution_count": 164,
   "metadata": {},
   "outputs": [
    {
     "name": "stdout",
     "output_type": "stream",
     "text": [
      "Untitled-song-of-3.m4a\n",
      "je-chhau-timi-2.mov\n",
      "je-chhau-timi-1.mov\n"
     ]
    }
   ],
   "source": [
    "for files in os.listdir():\n",
    "    if(files == '.DS_Store'):   # to avoid the DS file\n",
    "        continue\n",
    "    print(files)"
   ]
  },
  {
   "cell_type": "markdown",
   "metadata": {},
   "source": [
    "**NOW**\n",
    "\n",
    "split the base name from the extension and modify the name and put back together:\n",
    "\n",
    "`.splitext(file_name)`"
   ]
  },
  {
   "cell_type": "code",
   "execution_count": 165,
   "metadata": {},
   "outputs": [
    {
     "name": "stdout",
     "output_type": "stream",
     "text": [
      "Untitled-song-of-3\n",
      ".m4a\n",
      "je-chhau-timi-2\n",
      ".mov\n",
      "je-chhau-timi-1\n",
      ".mov\n"
     ]
    }
   ],
   "source": [
    "for files in os.listdir():\n",
    "    if(files == '.DS_Store'):   # to avoid the DS file\n",
    "        continue\n",
    "    name,ext= os.path.splitext(files)\n",
    "    print(name)\n",
    "    print(ext)"
   ]
  },
  {
   "cell_type": "markdown",
   "metadata": {},
   "source": [
    "now i want number in beginning , python and title and get rid of spaces\n",
    "split this string to each and get different elements"
   ]
  },
  {
   "cell_type": "markdown",
   "metadata": {},
   "source": [
    "Now i want to split the name from each dash\"-\"\" : `.split()`"
   ]
  },
  {
   "cell_type": "code",
   "execution_count": 166,
   "metadata": {
    "scrolled": true
   },
   "outputs": [
    {
     "name": "stdout",
     "output_type": "stream",
     "text": [
      "['Untitled', 'song', 'of', '3']\n",
      "['je', 'chhau', 'timi', '2']\n",
      "['je', 'chhau', 'timi', '1']\n"
     ]
    }
   ],
   "source": [
    "for files in os.listdir():\n",
    "    if(files == '.DS_Store'):   # to avoid the DS file\n",
    "        continue\n",
    "    name,ext= os.path.splitext(files)\n",
    "    name_splitted = name.split(\"-\")      #RETURNS a list\n",
    "    print(name_splitted)"
   ]
  },
  {
   "cell_type": "markdown",
   "metadata": {},
   "source": [
    "Now let's get the rid of space for each elements i.e. ['je chhau ', ' timi2']\n",
    "we can do this with list comprehension"
   ]
  },
  {
   "cell_type": "code",
   "execution_count": 167,
   "metadata": {},
   "outputs": [
    {
     "name": "stdout",
     "output_type": "stream",
     "text": [
      "['je', 'chhau', 'timi', '1']\n"
     ]
    }
   ],
   "source": [
    "print(name_splitted)"
   ]
  },
  {
   "cell_type": "code",
   "execution_count": 168,
   "metadata": {},
   "outputs": [
    {
     "name": "stdout",
     "output_type": "stream",
     "text": [
      "['Untitled', 'song', 'of', '3']\n",
      "['je', 'chhau', 'timi', '2']\n",
      "['je', 'chhau', 'timi', '1']\n"
     ]
    }
   ],
   "source": [
    "for files in os.listdir():\n",
    "    if(files == '.DS_Store'):   # to avoid the DS file\n",
    "        continue\n",
    "    name,ext= os.path.splitext(files)\n",
    "    name_splitted = name.split(\"-\")  #RETURNS list\n",
    "    new_splitted = [s.strip() for s in name_splitted]\n",
    "#     new_splitted = []\n",
    "#     for s in name_splitted:\n",
    "#             new_splitted.append(s.strip())\n",
    "    print(new_splitted)\n",
    "    \n",
    "# new_splitted.clear()"
   ]
  },
  {
   "cell_type": "markdown",
   "metadata": {},
   "source": [
    "No we don't have any spaces here."
   ]
  },
  {
   "cell_type": "markdown",
   "metadata": {},
   "source": [
    "Now lets create a new name which consists of new order of file name\n"
   ]
  },
  {
   "cell_type": "code",
   "execution_count": 169,
   "metadata": {},
   "outputs": [
    {
     "name": "stdout",
     "output_type": "stream",
     "text": [
      "3-song-of-Untitled.m4a\n",
      "2-chhau-timi-je.mov\n",
      "1-chhau-timi-je.mov\n"
     ]
    }
   ],
   "source": [
    "# now lets create a new name which consists of new order of file name\n",
    "\n",
    "for files in os.listdir():\n",
    "    if(files == '.DS_Store'):   # to avoid the DS file\n",
    "        continue\n",
    "    name,ext= os.path.splitext(files)\n",
    "    name_splitted = name.split(\"-\")  #RETURNS list\n",
    "    new_splitted = [s.strip() for s in name_splitted]\n",
    "#     new_splitted = []\n",
    "#     for s in name_splitted:\n",
    "#             new_splitted.append(s.strip())\n",
    "    new_name = f\"{new_splitted[3]}-{new_splitted[1]}-{new_splitted[2]}-{new_splitted[0]}{ext}\"\n",
    "    print(new_name)\n",
    "#     print(new_splitted)\n"
   ]
  },
  {
   "cell_type": "markdown",
   "metadata": {},
   "source": [
    "2 digit indexing : use of `.zfill()`"
   ]
  },
  {
   "cell_type": "code",
   "execution_count": 170,
   "metadata": {},
   "outputs": [
    {
     "name": "stdout",
     "output_type": "stream",
     "text": [
      "03-song-of-Untitled.m4a\n",
      "02-chhau-timi-je.mov\n",
      "01-chhau-timi-je.mov\n"
     ]
    }
   ],
   "source": [
    "for files in os.listdir():\n",
    "    if(files == '.DS_Store'):   # to avoid the DS file\n",
    "        continue\n",
    "    name,ext= os.path.splitext(files) #Split the extension from a pathname.\n",
    "    name_splitted = name.split(\"-\")  #RETURNS list\n",
    "    new_splitted = [s.strip() for s in name_splitted]\n",
    "#     new_splitted = []\n",
    "#     for s in name_splitted:\n",
    "#             new_splitted.append(s.strip())\n",
    "    new_name = f\"{new_splitted[3].zfill(2)}-{new_splitted[1]}-{new_splitted[2]}-{new_splitted[0]}{ext}\"\n",
    "    print(new_name)\n",
    "#     print(new_splitted)"
   ]
  },
  {
   "cell_type": "markdown",
   "metadata": {},
   "source": [
    "Renaming in directory:: `.rename()`"
   ]
  },
  {
   "cell_type": "code",
   "execution_count": 171,
   "metadata": {},
   "outputs": [],
   "source": [
    "for files in os.listdir():\n",
    "    if(files == '.DS_Store'):   # to avoid the DS file\n",
    "        continue\n",
    "    name,ext= os.path.splitext(files)\n",
    "    name_splitted = name.split(\"-\")  #RETURNS list\n",
    "    new_splitted = [s.strip() for s in name_splitted]\n",
    "#     new_splitted = []\n",
    "#     for s in name_splitted:\n",
    "#             new_splitted.append(s.strip())\n",
    "    new_name = f\"{new_splitted[3]}-{new_splitted[1]}-{new_splitted[2]}-{new_splitted[0]}{ext}\"\n",
    "#     print(new_name)\n",
    "    os.rename(files,new_name)\n",
    "    \n",
    "#     print(new_splitted)"
   ]
  },
  {
   "cell_type": "markdown",
   "metadata": {},
   "source": [
    "# Lets try another way"
   ]
  },
  {
   "cell_type": "code",
   "execution_count": 172,
   "metadata": {
    "scrolled": true
   },
   "outputs": [
    {
     "name": "stdout",
     "output_type": "stream",
     "text": [
      "Requirement already satisfied: pathlib in /Library/Frameworks/Python.framework/Versions/3.11/lib/python3.11/site-packages (1.0.1)\r\n"
     ]
    }
   ],
   "source": [
    "!pip install pathlib"
   ]
  },
  {
   "cell_type": "code",
   "execution_count": 173,
   "metadata": {},
   "outputs": [],
   "source": [
    "from pathlib import Path"
   ]
  },
  {
   "cell_type": "code",
   "execution_count": 178,
   "metadata": {},
   "outputs": [],
   "source": [
    "for files in os.listdir():\n",
    "    if(files == '.DS_Store'):   # to avoid the DS file\n",
    "        continue\n",
    "    path_obj = Path(files)\n",
    "    name,ext= path_obj.stem,path_obj.suffix\n",
    "    name_splitted = name.split(\"-\")  #RETURNS list\n",
    "    new_splitted = [s.strip() for s in name_splitted]\n",
    "#     new_splitted = []\n",
    "#     for s in name_splitted:\n",
    "#             new_splitted.append(s.strip())\n",
    "    new_name = f\"{new_splitted[3]}-{new_splitted[1]}-{new_splitted[2]}-{new_splitted[0]}{ext}\"\n",
    "#     print(new_name)\n",
    "    path_obj.rename(new_name)"
   ]
  },
  {
   "cell_type": "markdown",
   "metadata": {},
   "source": [
    "# Move"
   ]
  },
  {
   "cell_type": "code",
   "execution_count": 180,
   "metadata": {},
   "outputs": [
    {
     "data": {
      "text/plain": [
       "'/Users/khatiwadaprajwal22icloud.com/Desktop/random'"
      ]
     },
     "execution_count": 180,
     "metadata": {},
     "output_type": "execute_result"
    }
   ],
   "source": [
    "os.getcwd()"
   ]
  },
  {
   "cell_type": "markdown",
   "metadata": {},
   "source": [
    "Make a new directory::"
   ]
  },
  {
   "cell_type": "code",
   "execution_count": 181,
   "metadata": {},
   "outputs": [],
   "source": [
    "os.mkdir(\"data\")"
   ]
  },
  {
   "cell_type": "code",
   "execution_count": 182,
   "metadata": {},
   "outputs": [
    {
     "name": "stdout",
     "output_type": "stream",
     "text": [
      "1-chhau-timi-je.mov\n",
      "2-chhau-timi-je.mov\n",
      "3-song-of-Untitled.m4a\n",
      "data\n"
     ]
    }
   ],
   "source": [
    "for files in os.listdir():\n",
    "    if(files == '.DS_Store'):   # to avoid the DS file\n",
    "        continue\n",
    "    print(files)"
   ]
  },
  {
   "cell_type": "markdown",
   "metadata": {},
   "source": [
    "Now to move a file in another directory we use `shutil` module"
   ]
  },
  {
   "cell_type": "code",
   "execution_count": 183,
   "metadata": {},
   "outputs": [],
   "source": [
    "import shutil"
   ]
  },
  {
   "cell_type": "code",
   "execution_count": 185,
   "metadata": {},
   "outputs": [],
   "source": [
    "for files in os.listdir():\n",
    "    if(files == '.DS_Store' or files == \"data\"):   # to avoid the DS file\n",
    "        continue\n",
    "    shutil.move(files,\"data\")"
   ]
  },
  {
   "cell_type": "markdown",
   "metadata": {},
   "source": [
    "Now all the files are moved to data folder"
   ]
  },
  {
   "cell_type": "markdown",
   "metadata": {},
   "source": [
    "# Copying"
   ]
  },
  {
   "cell_type": "code",
   "execution_count": 187,
   "metadata": {},
   "outputs": [],
   "source": [
    "for files in os.listdir():\n",
    "    if(files == '.DS_Store' or files == \"data\"):   # to avoid the DS file\n",
    "        continue\n",
    "    shutil.copy(files,\"data\")"
   ]
  },
  {
   "cell_type": "markdown",
   "metadata": {},
   "source": [
    "To keep same old timestamp i.e metadata use `copy2` function :"
   ]
  },
  {
   "cell_type": "code",
   "execution_count": 189,
   "metadata": {},
   "outputs": [],
   "source": [
    "for files in os.listdir():\n",
    "    if(files == '.DS_Store' or files == \"data\"):   # to avoid the DS file\n",
    "        continue\n",
    "    shutil.copy2(files,\"data\")"
   ]
  },
  {
   "cell_type": "markdown",
   "metadata": {},
   "source": [
    "# Delete"
   ]
  },
  {
   "cell_type": "code",
   "execution_count": 190,
   "metadata": {},
   "outputs": [
    {
     "ename": "OSError",
     "evalue": "[Errno 66] Directory not empty: 'data'",
     "output_type": "error",
     "traceback": [
      "\u001b[0;31m---------------------------------------------------------------------------\u001b[0m",
      "\u001b[0;31mOSError\u001b[0m                                   Traceback (most recent call last)",
      "Cell \u001b[0;32mIn[190], line 1\u001b[0m\n\u001b[0;32m----> 1\u001b[0m \u001b[43mos\u001b[49m\u001b[38;5;241;43m.\u001b[39;49m\u001b[43mrmdir\u001b[49m\u001b[43m(\u001b[49m\u001b[38;5;124;43m\"\u001b[39;49m\u001b[38;5;124;43mdata\u001b[39;49m\u001b[38;5;124;43m\"\u001b[39;49m\u001b[43m)\u001b[49m\n",
      "\u001b[0;31mOSError\u001b[0m: [Errno 66] Directory not empty: 'data'"
     ]
    }
   ],
   "source": [
    "os.rmdir(\"data\")"
   ]
  },
  {
   "cell_type": "markdown",
   "metadata": {},
   "source": [
    "To delete Non-empty directory use `shutil`"
   ]
  },
  {
   "cell_type": "code",
   "execution_count": 191,
   "metadata": {},
   "outputs": [],
   "source": [
    "shutil.rmtree(\"data\")"
   ]
  },
  {
   "cell_type": "code",
   "execution_count": 193,
   "metadata": {},
   "outputs": [
    {
     "name": "stdout",
     "output_type": "stream",
     "text": [
      "Videos\n",
      "Audio\n",
      "Documents\n",
      "Scripts\n",
      "Images\n"
     ]
    }
   ],
   "source": [
    "directories = {\n",
    "    \"Videos\": [\"mp4\",\"wav\",\"obb\"],\n",
    "    \"Audio\": [\"mp3\"],\n",
    "    \"Documents\": [\"doc\",\"txt\",\"pdf\"],\n",
    "    \"Scripts\": [\"html\",\"py\"],\n",
    "    \"Images\": [\"png\",\"jpg\",\"jpeg\"]\n",
    "}\n",
    "for directory in directories:\n",
    "    print(directory)"
   ]
  },
  {
   "cell_type": "markdown",
   "metadata": {},
   "source": [
    "**Note:**\n",
    "      `os.makedirs(directory,exist_ok=True)` exist_ok=True won't raise an error if DIR already exists"
   ]
  },
  {
   "cell_type": "code",
   "execution_count": null,
   "metadata": {},
   "outputs": [],
   "source": []
  },
  {
   "cell_type": "markdown",
   "metadata": {},
   "source": [
    "# Making a file organizer\n",
    "\n",
    "• Import os , shutil\n",
    "\n",
    "• Current Working dir\n",
    "\n",
    "• create the dir of diff type\n",
    "\n",
    "• get_file_extension\n",
    "\n",
    "• put the exception\n",
    "\n",
    "• make the dir\n",
    "\n",
    "• organize the file"
   ]
  },
  {
   "cell_type": "code",
   "execution_count": 226,
   "metadata": {},
   "outputs": [
    {
     "data": {
      "text/plain": [
       "'/Users/khatiwadaprajwal22icloud.com/Desktop/Automation'"
      ]
     },
     "execution_count": 226,
     "metadata": {},
     "output_type": "execute_result"
    }
   ],
   "source": [
    "os.getcwd()"
   ]
  },
  {
   "cell_type": "code",
   "execution_count": 247,
   "metadata": {},
   "outputs": [
    {
     "data": {
      "text/plain": [
       "'/Users/khatiwadaprajwal22icloud.com/Desktop/Automation'"
      ]
     },
     "execution_count": 247,
     "metadata": {},
     "output_type": "execute_result"
    }
   ],
   "source": [
    "os.chdir('/Users/khatiwadaprajwal22icloud.com/Desktop/Automation/')\n",
    "os.getcwd()"
   ]
  },
  {
   "cell_type": "code",
   "execution_count": 248,
   "metadata": {},
   "outputs": [],
   "source": [
    "# Make the required directories\n",
    "directories = {\n",
    "    \"Movie\" : [\".mov\",\".mp4\"],\n",
    "    \"Audio\" : ['.mp3','.aac','.m4a'],\n",
    "    \"Document\" : ['.pdf','.docx','.pages'],\n",
    "    \"Images\" : ['.png','.jpg'],\n",
    "    \"Scripts\" : ['.html','.js','.py']\n",
    "}"
   ]
  },
  {
   "cell_type": "code",
   "execution_count": 249,
   "metadata": {},
   "outputs": [
    {
     "name": "stdout",
     "output_type": "stream",
     "text": [
      "Movie\n",
      "Audio\n",
      "Document\n",
      "Images\n",
      "Scripts\n"
     ]
    }
   ],
   "source": [
    "# Get the file extention \n",
    "# now we need extension \"abcs.py\" so we split the file name\n",
    "def file_extension(file):\n",
    "    return os.path.splitext(file)[1] # returns tuple\n",
    "# this gives a two value, one name another extension\n",
    "# Split the extension from a pathname.\n",
    "\n",
    "exception = ['File_organization.ipynb']\n",
    "\n",
    "for directory in directories:\n",
    "    print(directory)\n",
    "    os.makedirs(directory,exist_ok=True)\n",
    "    \n",
    "\n",
    "for file in os.listdir():\n",
    "    if file in exception:\n",
    "        continue\n",
    "    elif os.path.isfile(file):\n",
    "        extension = file_extension(file)\n",
    "        for folder,extension_list in directories.items():\n",
    "            if extension in extension_list:\n",
    "                shutil.move(file,folder)"
   ]
  },
  {
   "cell_type": "code",
   "execution_count": null,
   "metadata": {},
   "outputs": [],
   "source": []
  },
  {
   "cell_type": "code",
   "execution_count": null,
   "metadata": {},
   "outputs": [],
   "source": []
  }
 ],
 "metadata": {
  "kernelspec": {
   "display_name": "Python 3 (ipykernel)",
   "language": "python",
   "name": "python3"
  },
  "language_info": {
   "codemirror_mode": {
    "name": "ipython",
    "version": 3
   },
   "file_extension": ".py",
   "mimetype": "text/x-python",
   "name": "python",
   "nbconvert_exporter": "python",
   "pygments_lexer": "ipython3",
   "version": "3.11.1"
  }
 },
 "nbformat": 4,
 "nbformat_minor": 2
}
