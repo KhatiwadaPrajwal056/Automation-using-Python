{
 "cells": [
  {
   "cell_type": "markdown",
   "metadata": {},
   "source": [
    "# File handling amd file organization : navigate, rename, move , copy , remove\n"
   ]
  },
  {
   "cell_type": "code",
   "execution_count": 29,
   "metadata": {},
   "outputs": [],
   "source": [
    "import os"
   ]
  },
  {
   "cell_type": "code",
   "execution_count": 30,
   "metadata": {},
   "outputs": [
    {
     "name": "stdout",
     "output_type": "stream",
     "text": [
      "/Users/khatiwadaprajwal22icloud.com/Desktop/random\n"
     ]
    }
   ],
   "source": [
    "# get the current working directory\n",
    "print(os.getcwd())   # Current directory"
   ]
  },
  {
   "cell_type": "code",
   "execution_count": 31,
   "metadata": {},
   "outputs": [
    {
     "name": "stdout",
     "output_type": "stream",
     "text": [
      "/Users/khatiwadaprajwal22icloud.com/Desktop/random\n"
     ]
    }
   ],
   "source": [
    "# Change to some other directory\n",
    "os.chdir('/Users/khatiwadaprajwal22icloud.com/Desktop/random')  # change the directory \n",
    "print(os.getcwd()) \n",
    "# now our current directory is changed\n",
    "# Now i want to work in this directory and play with these files.\n"
   ]
  },
  {
   "cell_type": "code",
   "execution_count": 40,
   "metadata": {},
   "outputs": [
    {
     "name": "stdout",
     "output_type": "stream",
     "text": [
      ".DS_Store\n",
      "je - chhau - timi2.mov\n",
      "Untitled.m4a\n",
      "je chhau timi.mov\n"
     ]
    }
   ],
   "source": [
    "# Get the list of all the files in this directory\n",
    "for files in os.listdir():\n",
    "    print(files)"
   ]
  },
  {
   "cell_type": "markdown",
   "metadata": {},
   "source": [
    "Here we see there's a file called DS store.\n",
    "What it is? ::\n",
    "        \n",
    "Can be removed"
   ]
  },
  {
   "cell_type": "code",
   "execution_count": 41,
   "metadata": {},
   "outputs": [
    {
     "name": "stdout",
     "output_type": "stream",
     "text": [
      "je - chhau - timi2.mov\n",
      "Untitled.m4a\n",
      "je chhau timi.mov\n"
     ]
    }
   ],
   "source": [
    "for files in os.listdir():\n",
    "    if(files == '.DS_Store'):   # to avoid the DS file\n",
    "        continue\n",
    "    print(files)"
   ]
  },
  {
   "cell_type": "markdown",
   "metadata": {},
   "source": [
    "**NOW**\n",
    "\n",
    "split the base name from the extension and modify the name and put back together:"
   ]
  },
  {
   "cell_type": "code",
   "execution_count": 42,
   "metadata": {},
   "outputs": [
    {
     "name": "stdout",
     "output_type": "stream",
     "text": [
      "je - chhau - timi2\n",
      ".mov\n",
      "Untitled\n",
      ".m4a\n",
      "je chhau timi\n",
      ".mov\n"
     ]
    }
   ],
   "source": [
    "for files in os.listdir():\n",
    "    if(files == '.DS_Store'):   # to avoid the DS file\n",
    "        continue\n",
    "    name,ext= os.path.splitext(files)\n",
    "    print(name)\n",
    "    print(ext)"
   ]
  },
  {
   "cell_type": "markdown",
   "metadata": {},
   "source": [
    "now i want number in beginning , python and title and get rid of spaces\n",
    "split this string to each and get different elements"
   ]
  },
  {
   "cell_type": "markdown",
   "metadata": {},
   "source": [
    "Now i want to split the name from each dash\"-\"\""
   ]
  },
  {
   "cell_type": "code",
   "execution_count": 61,
   "metadata": {
    "scrolled": true
   },
   "outputs": [
    {
     "name": "stdout",
     "output_type": "stream",
     "text": [
      "['je ', ' chhau ', ' timi2']\n",
      "['Untitled']\n",
      "['je chhau timi']\n"
     ]
    }
   ],
   "source": [
    "for files in os.listdir():\n",
    "    if(files == '.DS_Store'):   # to avoid the DS file\n",
    "        continue\n",
    "    name,ext= os.path.splitext(files)\n",
    "    name_splitted = name.split(\"-\")      #RETURNS a list\n",
    "    print(name_splitted)"
   ]
  },
  {
   "cell_type": "markdown",
   "metadata": {},
   "source": [
    "Now let's get the rid of space for each elements i.e. ['je chhau ', ' timi2']\n",
    "we can do this with list comprehension"
   ]
  },
  {
   "cell_type": "code",
   "execution_count": 66,
   "metadata": {},
   "outputs": [
    {
     "name": "stdout",
     "output_type": "stream",
     "text": [
      "['je chhau timi']\n"
     ]
    }
   ],
   "source": [
    "print(name_splitted)"
   ]
  },
  {
   "cell_type": "code",
   "execution_count": 87,
   "metadata": {},
   "outputs": [
    {
     "name": "stdout",
     "output_type": "stream",
     "text": [
      "['timi2']\n",
      "['Untitled']\n",
      "['je chhau timi']\n"
     ]
    }
   ],
   "source": [
    "for files in os.listdir():\n",
    "    if(files == '.DS_Store'):   # to avoid the DS file\n",
    "        continue\n",
    "    name,ext= os.path.splitext(files)\n",
    "    name_splitted = name.split(\"-\")      #RETURNS list\n",
    "    new_splitted = []\n",
    "    for s in name_splitted:\n",
    "            new_splitted=[(s.strip())]\n",
    "    print(new_splitted)\n",
    "    \n",
    "# new_splitted.clear()"
   ]
  },
  {
   "cell_type": "code",
   "execution_count": null,
   "metadata": {},
   "outputs": [],
   "source": []
  }
 ],
 "metadata": {
  "kernelspec": {
   "display_name": "Python 3 (ipykernel)",
   "language": "python",
   "name": "python3"
  },
  "language_info": {
   "codemirror_mode": {
    "name": "ipython",
    "version": 3
   },
   "file_extension": ".py",
   "mimetype": "text/x-python",
   "name": "python",
   "nbconvert_exporter": "python",
   "pygments_lexer": "ipython3",
   "version": "3.11.1"
  }
 },
 "nbformat": 4,
 "nbformat_minor": 2
}
