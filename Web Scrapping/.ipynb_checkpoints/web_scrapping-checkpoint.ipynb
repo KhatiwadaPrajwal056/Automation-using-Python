{
 "cells": [
  {
   "cell_type": "markdown",
   "metadata": {},
   "source": [
    "# HTML BASICS\n",
    "\n",
    "html is one of the most basic tool to build website.This helps to understand the code behind the website.\n",
    "\n",
    "Matkup syntax: < h1 class = \"title\"> content</ h1 >\n",
    "\n",
    "h1 is `tag`\n",
    "\n",
    "class is `attribute name`\n",
    "\n",
    "title is `attribue value`\n",
    "\n",
    "titanic is `content`\n"
   ]
  },
  {
   "cell_type": "markdown",
   "metadata": {},
   "source": [
    "# Tags in html\n",
    "\n",
    "1. `head` represnte head section :metadata \n",
    "2. `body` establish the body of html doc\n",
    "3. `header` contains introductory content\n",
    "4. `article` new one: block entries,post etc\n",
    "5. `p` includes paragraph\n",
    "6. `h1,h2,h2` is heading with their levels\n",
    "7. `div` divider or container\n",
    "8. `nav` navigational,padding \n",
    "9. `li` list item\n",
    "10. `a`:anchor also known as hyper link"
   ]
  },
  {
   "cell_type": "markdown",
   "metadata": {},
   "source": [
    "# Hamro Patro Rahifal"
   ]
  },
  {
   "cell_type": "code",
   "execution_count": 3,
   "metadata": {},
   "outputs": [],
   "source": [
    "import requests\n",
    "from bs4 import BeautifulSoup # Parsing HTML & XML docs"
   ]
  },
  {
   "cell_type": "code",
   "execution_count": null,
   "metadata": {},
   "outputs": [],
   "source": [
    "url = "
   ]
  },
  {
   "cell_type": "code",
   "execution_count": null,
   "metadata": {},
   "outputs": [],
   "source": []
  },
  {
   "cell_type": "code",
   "execution_count": null,
   "metadata": {},
   "outputs": [],
   "source": []
  },
  {
   "cell_type": "code",
   "execution_count": null,
   "metadata": {},
   "outputs": [],
   "source": []
  }
 ],
 "metadata": {
  "kernelspec": {
   "display_name": "Python 3 (ipykernel)",
   "language": "python",
   "name": "python3"
  },
  "language_info": {
   "codemirror_mode": {
    "name": "ipython",
    "version": 3
   },
   "file_extension": ".py",
   "mimetype": "text/x-python",
   "name": "python",
   "nbconvert_exporter": "python",
   "pygments_lexer": "ipython3",
   "version": "3.11.1"
  }
 },
 "nbformat": 4,
 "nbformat_minor": 2
}
