{
 "cells": [
  {
   "cell_type": "markdown",
   "metadata": {},
   "source": [
    "# HTML BASICS\n",
    "\n",
    "html is one of the most basic tool to build website.This helps to understand the code behind the website.\n",
    "\n",
    "Matkup syntax: <h1 class = \"title\"> Titanic </h1>\"\n",
    "\n",
    "h1 is `tag`\n",
    "\n",
    "class is `attribute name`\n",
    "\n",
    "title is `attribue value`\n",
    "\n",
    "titanic is `content`\n"
   ]
  },
  {
   "cell_type": "code",
   "execution_count": null,
   "metadata": {},
   "outputs": [],
   "source": []
  }
 ],
 "metadata": {
  "kernelspec": {
   "display_name": "Python 3 (ipykernel)",
   "language": "python",
   "name": "python3"
  },
  "language_info": {
   "codemirror_mode": {
    "name": "ipython",
    "version": 3
   },
   "file_extension": ".py",
   "mimetype": "text/x-python",
   "name": "python",
   "nbconvert_exporter": "python",
   "pygments_lexer": "ipython3",
   "version": "3.11.1"
  }
 },
 "nbformat": 4,
 "nbformat_minor": 2
}
